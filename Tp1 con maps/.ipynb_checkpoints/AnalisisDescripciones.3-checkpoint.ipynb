{
 "cells": [
  {
   "cell_type": "code",
   "execution_count": 1,
   "metadata": {
    "collapsed": true
   },
   "outputs": [],
   "source": [
    "import pandas as pd\n",
    "import numpy as np\n",
    "import matplotlib.pyplot as plt\n",
    "import html5lib\n",
    "from bs4 import BeautifulSoup as bs\n",
    "from urllib import urlopen\n",
    "import sys\n",
    "reload(sys)\n",
    "sys.setdefaultencoding('utf-8')\n",
    "\n",
    "%matplotlib inline"
   ]
  },
  {
   "cell_type": "markdown",
   "metadata": {},
   "source": [
    "# Probamos cargar una sola URL"
   ]
  },
  {
   "cell_type": "code",
   "execution_count": 22,
   "metadata": {
    "collapsed": true
   },
   "outputs": [],
   "source": [
    "#Prueba de una sola\n",
    "\n",
    "url = \"http://www.properati.com.ar/336o_venta_departamento_macrocentro\"\n",
    "\n",
    "html = urlopen(url)\n",
    "soup = bs(html)\n",
    "\n",
    "mydivs = soup.findAll('ul')\n",
    "#Cosas contra las que comparar!!!\n",
    "a= 'Superficie'\n",
    "b= 'Baños'\n",
    "c= 'Ambientes'\n",
    "d= 'Piso'\n",
    "e= 'Dormitorio'\n",
    "\n",
    "for div in mydivs: \n",
    "    li = div.findAll('li')\n",
    "    l = len(li)\n",
    "    if(l > 0): x = li[0].getText()\n",
    "    if(l > 1): y = li[1].getText()\n",
    "    if(l > 2): z = li[2].getText()\n",
    "    \n",
    "    if(a in x or b in x or c in x or d in x or e in x):\n",
    "        print x\n",
    "    if(a in y or b in y or c in y or d in y or e in y):\n",
    "        print y\n",
    "    if(a in z or b in z or c in z or d in z or e in z):\n",
    "        print z\n",
    "#b = soup.find_all('div', class_=\"span8\")\n",
    "#b.find()\n",
    "#b = soup.findAll('div',{'class' : 'span8'})\n",
    "#b = [li.getText() for li in soup.findAll('ul', limit=4).findAll('li') ]\n"
   ]
  },
  {
   "cell_type": "code",
   "execution_count": 35,
   "metadata": {
    "collapsed": true
   },
   "outputs": [],
   "source": [
    "def parsearDormitorios(x):\n",
    "    \n",
    "    for i in xrange( len(x) ):\n",
    "        actual = x[i].lower()\n",
    "        if( 'dorm' in actual ):\n",
    "            return actual[12:]\n",
    "        \n",
    "    return None\n",
    "\n",
    "def parsearAmbientes(x):\n",
    "    \n",
    "    for i in xrange( len(x) ):\n",
    "        actual = x[i].lower()\n",
    "        if( 'amb' in actual ):\n",
    "            return actual[10:]\n",
    "        \n",
    "    return None\n",
    "\n",
    "def parsearCochera(x):\n",
    "    \n",
    "    for i in xrange( len(x) ):\n",
    "        actual = x[i].lower()\n",
    "        if( 'coche' in actual or 'estac' in actual):\n",
    "            return True\n",
    "        \n",
    "    return None\n",
    "\n",
    "def parsearLugares(x):\n",
    "    \n",
    "    lugares = ['cocina','living','comedor','lavadero','jardín','patio',\n",
    "                       'terraza','plantas']\n",
    "    \n",
    "    l = []\n",
    "    \n",
    "    for i in xrange( len(x) ):\n",
    "        actual = x[i].lower()\n",
    "        for j in xrange(len(lugares)):\n",
    "            lugar = lugares[j]\n",
    "            if( lugar in actual):\n",
    "                l.append(lugar) \n",
    "    \n",
    "    if(len(l)!=0):return l\n",
    "    return None\n",
    "\n",
    "def parsearCondiciones(x):\n",
    "    condiciones = ['estrenar']\n",
    "    \n",
    "def parsearExtras(x):\n",
    "    extras = ['amoblado','calefacción','pisos','carpinteria','balcón','parrilla',\n",
    "              'pileta','piscina']\n",
    "\n",
    "def parsearExternos(x):\n",
    "    externos = ['agua corriente','gas natural','cloacas']"
   ]
  },
  {
   "cell_type": "code",
   "execution_count": 25,
   "metadata": {},
   "outputs": [
    {
     "name": "stdout",
     "output_type": "stream",
     "text": [
      " 2\n"
     ]
    }
   ],
   "source": [
    "a = parsearAmbientes(b)\n",
    "print a"
   ]
  },
  {
   "cell_type": "markdown",
   "metadata": {},
   "source": [
    "# Procesamos el conjunto de datos."
   ]
  },
  {
   "cell_type": "code",
   "execution_count": 6,
   "metadata": {
    "collapsed": true
   },
   "outputs": [],
   "source": [
    "#Cargo toda la info\n",
    "propertyD = pd.read_csv('../../properati-AR-2017-08-01-properties-sell.csv')\n",
    "propertyD = propertyD[(propertyD['price_aprox_usd'].isnull() == False)]\n",
    "propertyData = propertyD[0:5000]"
   ]
  },
  {
   "cell_type": "code",
   "execution_count": 5,
   "metadata": {},
   "outputs": [],
   "source": [
    "propertyData.info()\n",
    "#Todas tienen la url."
   ]
  },
  {
   "cell_type": "code",
   "execution_count": 9,
   "metadata": {
    "collapsed": true
   },
   "outputs": [],
   "source": [
    "def cargarURL(x):\n",
    "    html = urlopen(x)\n",
    "    soup = bs(html)\n",
    "\n",
    "    divs = soup.findAll('ul')\n",
    "    #Cosas contra las que comparar!!!\n",
    "    a= 'Superficie'\n",
    "    b= 'Baños'\n",
    "    c= 'Ambientes'\n",
    "    d= 'Piso'\n",
    "    e= 'Dormitorio'\n",
    "\n",
    "    for div in divs: \n",
    "        li = div.findAll('li')\n",
    "        l = len(li)\n",
    "        if(l > 0): x = li[0].getText()\n",
    "        if(l > 1): y = li[1].getText()\n",
    "        if(l > 2): z = li[2].getText()\n",
    "\n",
    "        if(a in x or b in x or c in x or d in x or e in x):\n",
    "            return x\n",
    "        if(a in y or b in y or c in y or d in y or e in y):\n",
    "            return y\n",
    "        if(a in z or b in z or c in z or d in z or e in z):\n",
    "            return z\n",
    "    return None"
   ]
  },
  {
   "cell_type": "code",
   "execution_count": null,
   "metadata": {},
   "outputs": [],
   "source": [
    "#Nos quedamos con la url\n",
    "direcciones = propertyData[['properati_url']]\n",
    "caracteristicas = direcciones['properati_url'].apply(lambda x: cargarURL( x ))"
   ]
  },
  {
   "cell_type": "code",
   "execution_count": 8,
   "metadata": {},
   "outputs": [
    {
     "name": "stdout",
     "output_type": "stream",
     "text": [
      "0    [Dormitorios: 1, Baños: 1, Superficie Cubierta...\n",
      "1    [Código Postal: 1900\\n\\n\\n\\n, Dormitorios: 2, ...\n",
      "2    [Dormitorios: 1, Baños: 1, Superficie Cubierta...\n",
      "3    [Código Postal: 1408\\n\\n\\n\\n, Dormitorios: 2, ...\n",
      "Name: properati_url, dtype: object\n"
     ]
    }
   ],
   "source": [
    "print caracteristicas"
   ]
  },
  {
   "cell_type": "code",
   "execution_count": 13,
   "metadata": {},
   "outputs": [
    {
     "name": "stdout",
     "output_type": "stream",
     "text": [
      "0     1\n",
      "1     2\n",
      "2     1\n",
      "3     2\n",
      "Name: properati_url, dtype: object\n"
     ]
    }
   ],
   "source": [
    "dormitorios = caracteristicas.apply(lambda x: parsearDormitorios(x))\n",
    "print dormitorios"
   ]
  },
  {
   "cell_type": "code",
   "execution_count": 14,
   "metadata": {},
   "outputs": [
    {
     "name": "stdout",
     "output_type": "stream",
     "text": [
      "0    None\n",
      "1    None\n",
      "2    None\n",
      "3    None\n",
      "Name: properati_url, dtype: object\n"
     ]
    }
   ],
   "source": [
    "ambientes = caracteristicas.apply(lambda x: parsearAmbientes(x))\n",
    "print ambientes"
   ]
  },
  {
   "cell_type": "code",
   "execution_count": 26,
   "metadata": {},
   "outputs": [
    {
     "name": "stdout",
     "output_type": "stream",
     "text": [
      "0    None\n",
      "1    True\n",
      "2    None\n",
      "3    None\n",
      "Name: properati_url, dtype: object\n"
     ]
    }
   ],
   "source": [
    "cochera = caracteristicas.apply(lambda x: parsearCochera(x))\n",
    "print cochera"
   ]
  },
  {
   "cell_type": "code",
   "execution_count": 47,
   "metadata": {
    "collapsed": true
   },
   "outputs": [],
   "source": [
    "lugares = caracteristicas.apply(lambda x: parsearLugares(x))\n",
    "lugares[2]"
   ]
  }
 ],
 "metadata": {
  "kernelspec": {
   "display_name": "Python 2",
   "language": "python",
   "name": "python2"
  },
  "language_info": {
   "codemirror_mode": {
    "name": "ipython",
    "version": 2
   },
   "file_extension": ".py",
   "mimetype": "text/x-python",
   "name": "python",
   "nbconvert_exporter": "python",
   "pygments_lexer": "ipython2",
   "version": "2.7.13"
  }
 },
 "nbformat": 4,
 "nbformat_minor": 2
}
