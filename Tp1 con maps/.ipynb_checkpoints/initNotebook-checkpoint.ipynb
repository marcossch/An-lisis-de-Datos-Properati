{
 "cells": [
  {
   "cell_type": "code",
   "execution_count": 1,
   "metadata": {
    "collapsed": true
   },
   "outputs": [],
   "source": [
    "import pandas as pd\n",
    "import numpy as np\n",
    "import matplotlib.pyplot as plt\n",
    "%matplotlib inline"
   ]
  },
  {
   "cell_type": "code",
   "execution_count": 2,
   "metadata": {
    "collapsed": true
   },
   "outputs": [],
   "source": [
    "#Lectura del archivo\n",
    "property_data = pd.read_csv('../../properati-AR-2017-08-01-properties-sell.csv')"
   ]
  },
  {
   "cell_type": "code",
   "execution_count": 3,
   "metadata": {
    "collapsed": true
   },
   "outputs": [],
   "source": [
    "#Como solo vamos a usar Capital y GBA, filtramos\n",
    "property_data = property_data[property_data.place_with_parent_names.str.contains('Capital Federal') | \n",
    "                            property_data.place_with_parent_names.str.contains('Bs.As. G.B.A.')]"
   ]
  },
  {
   "cell_type": "code",
   "execution_count": 20,
   "metadata": {},
   "outputs": [
    {
     "name": "stdout",
     "output_type": "stream",
     "text": [
      "<class 'pandas.core.frame.DataFrame'>\n",
      "Int64Index: 124746 entries, 0 to 187480\n",
      "Data columns (total 27 columns):\n",
      "id                            124746 non-null object\n",
      "created_on                    124746 non-null object\n",
      "operation                     124746 non-null object\n",
      "property_type                 124746 non-null object\n",
      "place_name                    124711 non-null object\n",
      "place_with_parent_names       124746 non-null object\n",
      "country_name                  124746 non-null object\n",
      "state_name                    124746 non-null object\n",
      "geonames_id                   97866 non-null float64\n",
      "lat-lon                       75504 non-null object\n",
      "lat                           75504 non-null float64\n",
      "lon                           75504 non-null float64\n",
      "price                         110203 non-null float64\n",
      "currency                      110202 non-null object\n",
      "price_aprox_local_currency    110203 non-null float64\n",
      "price_aprox_usd               110203 non-null float64\n",
      "surface_total_in_m2           89385 non-null float64\n",
      "surface_covered_in_m2         109180 non-null float64\n",
      "price_usd_per_m2              79108 non-null float64\n",
      "price_per_m2                  98873 non-null float64\n",
      "floor                         10574 non-null float64\n",
      "rooms                         49922 non-null float64\n",
      "expenses                      14913 non-null float64\n",
      "properati_url                 124746 non-null object\n",
      "description                   124739 non-null object\n",
      "title                         124746 non-null object\n",
      "image_thumbnail               121669 non-null object\n",
      "dtypes: float64(13), object(14)\n",
      "memory usage: 26.6+ MB\n"
     ]
    }
   ],
   "source": [
    "#Vemos como quedo conformado el DF\n",
    "property_data.info()"
   ]
  },
  {
   "cell_type": "markdown",
   "metadata": {},
   "source": [
    "# Analisis del DataFrame\n",
    "\n",
    "## Filas inútiles\n",
    "\n",
    "Son removidas las columnas:\n",
    "\n",
    "    'id' -> No nos representa nada    \n",
    "    'operation' -> Son todas ventas \n",
    "    'country_name' -> Es siempre Argentina\n",
    "    'state-name' -> Esta contemplado en 'place_with_parent_name'\n",
    "    'properati_url' -> No nos representa nada\n",
    "    'description' -> No nos representa nada\n",
    "    'title' -> No nos representa nada\n",
    "    'image_thumbnail' -> No nos representa nada\n",
    "    'geoname_id' -> No nos representa nada\n",
    "    'lat' -> Está contemplada en 'lat-lon'\n",
    "    'lon' -> Está contemplada en 'lat-lon'\n",
    "    'price_per_m2' -> Nos interesan los precios en USD\n",
    "    'price_aprox_local_currency' -> Nos interesan los precios en USD\n",
    "    \n",
    "## Filas que pueden servir (pero que inicialmente no usamos)\n",
    "\n",
    "Estas columnas podrían usarse mas adelante:\n",
    "\n",
    "    'lat-lon' -> Para hacer una visualización sobre un mapa de la ciudad\n",
    "    'property_type' -> Puede servir para hacer un análisis del tipo de propiedad por barrio, o que tipo de propiedad se vende mas, etc.\n",
    "    'rooms' | 'expenses' | 'floor' -> Pueden servir para analizar como son las propiedades en cada lugar (o no)\n",
    "    'created_on' -> Puede servir para hacer un analisis de variaciones de precio y etc...\n",
    "\n",
    "## Filas similares\n",
    "\n",
    "Algunas columnas tienen datos parecidos:\n",
    "\n",
    "    'place_with_parent_names' -> Es casi lo mismo que 'place_name' pero capaz se puede usar para dividir por barrios dentro de partidos (Florida en Vicente López)\n",
    "    'price' -> Como se puede ver que 'price_aprox_usd' tiene la misma cantidad de entradas, vamos a utilizar esa y nos evitamos eliminar las entradas que tienen 'currency' en USD (y esto haría que 'currency' deje de servirnos).\n",
    "    'surface_total_in_m2' | 'surface_covered_in_m2' -> Habria que juntarlas en una única 'sup_total' ya que las entradas con NaN en la primera quieren decir que la superficie total es la cubierta. (y asi perdemos menos entradas)\n",
    "   \n",
    "## Filas a usar inicialmente\n",
    "\n",
    "    'place_name' -> Para filtrar por zona\n",
    "    'price_aprox_usd' -> Precio de la propiedad\n",
    "    'surface_total_in_m2' + 'surface_covered_in_m2' -> Tamaño de las propiedades\n",
    "    'price_usd_per_m2' -> Precio por m2 de las propiedades en dolares\n",
    "    "
   ]
  },
  {
   "cell_type": "markdown",
   "metadata": {},
   "source": [
    "## Analisis del DF inicial"
   ]
  },
  {
   "cell_type": "code",
   "execution_count": 5,
   "metadata": {
    "collapsed": true
   },
   "outputs": [],
   "source": [
    "#Nos quedamos con las filas indicadas\n",
    "init_data = property_data[['place_name', 'price_aprox_usd', 'surface_total_in_m2',\\\n",
    "                           'surface_covered_in_m2', 'price_usd_per_m2']]"
   ]
  },
  {
   "cell_type": "code",
   "execution_count": 6,
   "metadata": {},
   "outputs": [
    {
     "name": "stdout",
     "output_type": "stream",
     "text": [
      "<class 'pandas.core.frame.DataFrame'>\n",
      "Int64Index: 124746 entries, 0 to 187480\n",
      "Data columns (total 5 columns):\n",
      "place_name               124711 non-null object\n",
      "price_aprox_usd          110203 non-null float64\n",
      "surface_total_in_m2      89385 non-null float64\n",
      "surface_covered_in_m2    109180 non-null float64\n",
      "price_usd_per_m2         79108 non-null float64\n",
      "dtypes: float64(4), object(1)\n",
      "memory usage: 5.7+ MB\n"
     ]
    }
   ],
   "source": [
    "#Vemos la informacion para analizar la cantidad de entradas\n",
    "init_data.info()"
   ]
  },
  {
   "cell_type": "markdown",
   "metadata": {},
   "source": [
    "## ¿Que nos podemos preguntar sobre este DF inicial?\n",
    "\n",
    "#### Ideas:\n",
    "\n",
    "    ¿Cuanto sale el m2 en cada barrio? ¿Donde es más caro? ¿Donde es más barato?\n",
    "    ¿Cuanto sale la propiedad promedio en cada barrio? ¿Donde es más caro? ¿Donde es más barato?\n",
    "    ¿Donde están las propiedades más chicas? ¿Y las más grandes?\n",
    "    ¿En qué lugares las propiedades tienen mayor proporcion de superficie cubierta? ¿Y menor?\n",
    "    ¿Hay una correlación entre el tamaño de la propiedad y el precio del m2?\n",
    "    ¿El precio del m2 depende más del lugar o del tamaño?\n",
    "    ¿En que zona se venden más departamentos/locales/PHs/casas?\n",
    "    ¿Las casas con jardin son mas caras que las que no tienen?\n",
    "    Comparacion del valor de la propiedad con su tipo y su ubicacion (¿un local es mas caro en una zona comercial que en una residencial?)\n",
    "    ¿Que tipo de propiedad tiene mayor precio por m2 en cada barrio?\n",
    "    ¿Que tipo de propiedad predomina en cada barrio?\n",
    "    ¿Influye la distancia de la propiedad a cierta ubicacion?\n",
    "    Filtrar aquellas propiedades que tienen como barrio una zona muy grande (por ejemplo, 'Capital Federal', 'Bs.As. G.B.A. Zona Oeste')\n",
    "    ¿Como influye la cercanía al transporte público, dependendiendo la zona y el tipo de propiedad?\n",
    "    ¿Como afectan la cantidad y calidad de lugares de recreacion? (Restaurants, bares, plazas, estadios, clubes)\n",
    "    ¿Como afecta la cercanía a escuelas?\n",
    "    ¿Como afecta la cercanía a las universidades?\n",
    "    ---- Analizar descripcion para sacar datos útiles (por ejemplo si es a estrenar, si tiene garage, etc)-----\n",
    "\n",
    "    \n",
    "#### Importante:\n",
    "   \n",
    "    Lo más probable es que haya que analizar barrio por barrio para poder sacar todas esas propiedades que puedan alterar los valores del barrio. Por ejemplo si la distribución tira que en 80% los precios son 100USD y el máximo es 1500USD, hay que limpiarlo. ---> Pero que medida tomamos para hacer esos cortes?\n"
   ]
  },
  {
   "cell_type": "markdown",
   "metadata": {},
   "source": [
    "### Precio por metro cuadrado"
   ]
  },
  {
   "cell_type": "code",
   "execution_count": 7,
   "metadata": {},
   "outputs": [
    {
     "name": "stdout",
     "output_type": "stream",
     "text": [
      "124746\n",
      "Limpiando\n",
      "79080\n"
     ]
    }
   ],
   "source": [
    "#Empezamos por el precio por metro cuadrado por barrio. Nos quedamos solo con esa información y \n",
    "#limpiamos las entradas que no la tengan\n",
    "price_m2 = init_data[['place_name', 'price_usd_per_m2']]\n",
    "#Si no tienen ninguna de las dos entradas no nos sirve\n",
    "print len(price_m2)\n",
    "print \"Limpiando\"\n",
    "price_m2 = price_m2.dropna()\n",
    "print len(price_m2)"
   ]
  },
  {
   "cell_type": "code",
   "execution_count": 8,
   "metadata": {},
   "outputs": [
    {
     "data": {
      "text/html": [
       "<div>\n",
       "<style>\n",
       "    .dataframe thead tr:only-child th {\n",
       "        text-align: right;\n",
       "    }\n",
       "\n",
       "    .dataframe thead th {\n",
       "        text-align: left;\n",
       "    }\n",
       "\n",
       "    .dataframe tbody tr th {\n",
       "        vertical-align: top;\n",
       "    }\n",
       "</style>\n",
       "<table border=\"1\" class=\"dataframe\">\n",
       "  <thead>\n",
       "    <tr style=\"text-align: right;\">\n",
       "      <th></th>\n",
       "      <th>price_usd_per_m2</th>\n",
       "    </tr>\n",
       "  </thead>\n",
       "  <tbody>\n",
       "    <tr>\n",
       "      <th>count</th>\n",
       "      <td>7.908000e+04</td>\n",
       "    </tr>\n",
       "    <tr>\n",
       "      <th>mean</th>\n",
       "      <td>2.143172e+03</td>\n",
       "    </tr>\n",
       "    <tr>\n",
       "      <th>std</th>\n",
       "      <td>5.194859e+03</td>\n",
       "    </tr>\n",
       "    <tr>\n",
       "      <th>min</th>\n",
       "      <td>0.000000e+00</td>\n",
       "    </tr>\n",
       "    <tr>\n",
       "      <th>25%</th>\n",
       "      <td>1.122685e+03</td>\n",
       "    </tr>\n",
       "    <tr>\n",
       "      <th>50%</th>\n",
       "      <td>1.812500e+03</td>\n",
       "    </tr>\n",
       "    <tr>\n",
       "      <th>75%</th>\n",
       "      <td>2.521186e+03</td>\n",
       "    </tr>\n",
       "    <tr>\n",
       "      <th>90%</th>\n",
       "      <td>3.333333e+03</td>\n",
       "    </tr>\n",
       "    <tr>\n",
       "      <th>99%</th>\n",
       "      <td>1.113220e+04</td>\n",
       "    </tr>\n",
       "    <tr>\n",
       "      <th>max</th>\n",
       "      <td>1.271027e+06</td>\n",
       "    </tr>\n",
       "  </tbody>\n",
       "</table>\n",
       "</div>"
      ],
      "text/plain": [
       "       price_usd_per_m2\n",
       "count      7.908000e+04\n",
       "mean       2.143172e+03\n",
       "std        5.194859e+03\n",
       "min        0.000000e+00\n",
       "25%        1.122685e+03\n",
       "50%        1.812500e+03\n",
       "75%        2.521186e+03\n",
       "90%        3.333333e+03\n",
       "99%        1.113220e+04\n",
       "max        1.271027e+06"
      ]
     },
     "execution_count": 8,
     "metadata": {},
     "output_type": "execute_result"
    }
   ],
   "source": [
    "#Pedimos la descripcion de los datos\n",
    "price_m2.describe(percentiles = [0.25, 0.5, 0.75, 0.9, 0.99])"
   ]
  },
  {
   "cell_type": "markdown",
   "metadata": {},
   "source": [
    "###### Si miramos la distribución, se ve que en el percentil .99 el valor del metro cuadrado tiene 2 ordenes de magnitud menos que el máximo. Por lo tanto hay entradas que tienen precios fuera de rango. Asique vamos a cortar en 12kUSD"
   ]
  },
  {
   "cell_type": "code",
   "execution_count": 9,
   "metadata": {},
   "outputs": [
    {
     "data": {
      "text/html": [
       "<div>\n",
       "<style>\n",
       "    .dataframe thead tr:only-child th {\n",
       "        text-align: right;\n",
       "    }\n",
       "\n",
       "    .dataframe thead th {\n",
       "        text-align: left;\n",
       "    }\n",
       "\n",
       "    .dataframe tbody tr th {\n",
       "        vertical-align: top;\n",
       "    }\n",
       "</style>\n",
       "<table border=\"1\" class=\"dataframe\">\n",
       "  <thead>\n",
       "    <tr style=\"text-align: right;\">\n",
       "      <th></th>\n",
       "      <th>price_usd_per_m2</th>\n",
       "    </tr>\n",
       "  </thead>\n",
       "  <tbody>\n",
       "    <tr>\n",
       "      <th>count</th>\n",
       "      <td>78315.000000</td>\n",
       "    </tr>\n",
       "    <tr>\n",
       "      <th>mean</th>\n",
       "      <td>1936.627929</td>\n",
       "    </tr>\n",
       "    <tr>\n",
       "      <th>std</th>\n",
       "      <td>1235.061190</td>\n",
       "    </tr>\n",
       "    <tr>\n",
       "      <th>min</th>\n",
       "      <td>0.000000</td>\n",
       "    </tr>\n",
       "    <tr>\n",
       "      <th>25%</th>\n",
       "      <td>1114.864865</td>\n",
       "    </tr>\n",
       "    <tr>\n",
       "      <th>50%</th>\n",
       "      <td>1800.000000</td>\n",
       "    </tr>\n",
       "    <tr>\n",
       "      <th>75%</th>\n",
       "      <td>2500.000000</td>\n",
       "    </tr>\n",
       "    <tr>\n",
       "      <th>90%</th>\n",
       "      <td>3250.000000</td>\n",
       "    </tr>\n",
       "    <tr>\n",
       "      <th>99%</th>\n",
       "      <td>6425.284148</td>\n",
       "    </tr>\n",
       "    <tr>\n",
       "      <th>max</th>\n",
       "      <td>11942.857143</td>\n",
       "    </tr>\n",
       "  </tbody>\n",
       "</table>\n",
       "</div>"
      ],
      "text/plain": [
       "       price_usd_per_m2\n",
       "count      78315.000000\n",
       "mean        1936.627929\n",
       "std         1235.061190\n",
       "min            0.000000\n",
       "25%         1114.864865\n",
       "50%         1800.000000\n",
       "75%         2500.000000\n",
       "90%         3250.000000\n",
       "99%         6425.284148\n",
       "max        11942.857143"
      ]
     },
     "execution_count": 9,
     "metadata": {},
     "output_type": "execute_result"
    }
   ],
   "source": [
    "#Recortamos las entradas\n",
    "price_m2_u12 = price_m2[price_m2['price_usd_per_m2'] < 12000]\n",
    "price_m2_u12.describe(percentiles = [0.25, 0.5, 0.75, 0.9, 0.99])"
   ]
  },
  {
   "cell_type": "markdown",
   "metadata": {},
   "source": [
    "###### Ahora vemos que tiene mas sentido, pero igual el percentil .99 es la mitad del máximo. Dado que el porcentaje de propiedades removidas a partir de este corte fue muy chico, volvemos a recortar a 8.5kUSD"
   ]
  },
  {
   "cell_type": "code",
   "execution_count": 10,
   "metadata": {},
   "outputs": [
    {
     "data": {
      "text/html": [
       "<div>\n",
       "<style>\n",
       "    .dataframe thead tr:only-child th {\n",
       "        text-align: right;\n",
       "    }\n",
       "\n",
       "    .dataframe thead th {\n",
       "        text-align: left;\n",
       "    }\n",
       "\n",
       "    .dataframe tbody tr th {\n",
       "        vertical-align: top;\n",
       "    }\n",
       "</style>\n",
       "<table border=\"1\" class=\"dataframe\">\n",
       "  <thead>\n",
       "    <tr style=\"text-align: right;\">\n",
       "      <th></th>\n",
       "      <th>price_usd_per_m2</th>\n",
       "    </tr>\n",
       "  </thead>\n",
       "  <tbody>\n",
       "    <tr>\n",
       "      <th>count</th>\n",
       "      <td>78096.000000</td>\n",
       "    </tr>\n",
       "    <tr>\n",
       "      <th>mean</th>\n",
       "      <td>1914.469594</td>\n",
       "    </tr>\n",
       "    <tr>\n",
       "      <th>std</th>\n",
       "      <td>1162.646152</td>\n",
       "    </tr>\n",
       "    <tr>\n",
       "      <th>min</th>\n",
       "      <td>0.000000</td>\n",
       "    </tr>\n",
       "    <tr>\n",
       "      <th>25%</th>\n",
       "      <td>1113.611552</td>\n",
       "    </tr>\n",
       "    <tr>\n",
       "      <th>50%</th>\n",
       "      <td>1800.000000</td>\n",
       "    </tr>\n",
       "    <tr>\n",
       "      <th>75%</th>\n",
       "      <td>2500.000000</td>\n",
       "    </tr>\n",
       "    <tr>\n",
       "      <th>90%</th>\n",
       "      <td>3229.262564</td>\n",
       "    </tr>\n",
       "    <tr>\n",
       "      <th>99%</th>\n",
       "      <td>6049.413580</td>\n",
       "    </tr>\n",
       "    <tr>\n",
       "      <th>max</th>\n",
       "      <td>8461.538462</td>\n",
       "    </tr>\n",
       "  </tbody>\n",
       "</table>\n",
       "</div>"
      ],
      "text/plain": [
       "       price_usd_per_m2\n",
       "count      78096.000000\n",
       "mean        1914.469594\n",
       "std         1162.646152\n",
       "min            0.000000\n",
       "25%         1113.611552\n",
       "50%         1800.000000\n",
       "75%         2500.000000\n",
       "90%         3229.262564\n",
       "99%         6049.413580\n",
       "max         8461.538462"
      ]
     },
     "execution_count": 10,
     "metadata": {},
     "output_type": "execute_result"
    }
   ],
   "source": [
    "#Recortamos otra vez\n",
    "price_m2_u8 = price_m2[price_m2['price_usd_per_m2'] < 8500]\n",
    "price_m2_u8.describe(percentiles = [0.25, 0.5, 0.75, 0.9, 0.99])"
   ]
  },
  {
   "cell_type": "markdown",
   "metadata": {},
   "source": [
    "###### De nuevo, dado que solo restamos 1000 entradas, vamos a recortar un poco más, dejando como máximo al percentil .99"
   ]
  },
  {
   "cell_type": "code",
   "execution_count": 11,
   "metadata": {},
   "outputs": [
    {
     "data": {
      "text/html": [
       "<div>\n",
       "<style>\n",
       "    .dataframe thead tr:only-child th {\n",
       "        text-align: right;\n",
       "    }\n",
       "\n",
       "    .dataframe thead th {\n",
       "        text-align: left;\n",
       "    }\n",
       "\n",
       "    .dataframe tbody tr th {\n",
       "        vertical-align: top;\n",
       "    }\n",
       "</style>\n",
       "<table border=\"1\" class=\"dataframe\">\n",
       "  <thead>\n",
       "    <tr style=\"text-align: right;\">\n",
       "      <th></th>\n",
       "      <th>price_usd_per_m2</th>\n",
       "    </tr>\n",
       "  </thead>\n",
       "  <tbody>\n",
       "    <tr>\n",
       "      <th>count</th>\n",
       "      <td>77567.000000</td>\n",
       "    </tr>\n",
       "    <tr>\n",
       "      <th>mean</th>\n",
       "      <td>1878.555125</td>\n",
       "    </tr>\n",
       "    <tr>\n",
       "      <th>std</th>\n",
       "      <td>1080.896850</td>\n",
       "    </tr>\n",
       "    <tr>\n",
       "      <th>min</th>\n",
       "      <td>0.000000</td>\n",
       "    </tr>\n",
       "    <tr>\n",
       "      <th>25%</th>\n",
       "      <td>1111.111111</td>\n",
       "    </tr>\n",
       "    <tr>\n",
       "      <th>50%</th>\n",
       "      <td>1788.617886</td>\n",
       "    </tr>\n",
       "    <tr>\n",
       "      <th>75%</th>\n",
       "      <td>2474.994697</td>\n",
       "    </tr>\n",
       "    <tr>\n",
       "      <th>90%</th>\n",
       "      <td>3176.883417</td>\n",
       "    </tr>\n",
       "    <tr>\n",
       "      <th>99%</th>\n",
       "      <td>5431.536494</td>\n",
       "    </tr>\n",
       "    <tr>\n",
       "      <th>max</th>\n",
       "      <td>6497.175141</td>\n",
       "    </tr>\n",
       "  </tbody>\n",
       "</table>\n",
       "</div>"
      ],
      "text/plain": [
       "       price_usd_per_m2\n",
       "count      77567.000000\n",
       "mean        1878.555125\n",
       "std         1080.896850\n",
       "min            0.000000\n",
       "25%         1111.111111\n",
       "50%         1788.617886\n",
       "75%         2474.994697\n",
       "90%         3176.883417\n",
       "99%         5431.536494\n",
       "max         6497.175141"
      ]
     },
     "execution_count": 11,
     "metadata": {},
     "output_type": "execute_result"
    }
   ],
   "source": [
    "#Recortamos otra vez (vemos que perdimos solo 2k entradas en total entre todos los recortes y ahora la distribucion\n",
    "#es un poco mas normal)\n",
    "price_m2_u6 = price_m2[price_m2['price_usd_per_m2'] < 6500]\n",
    "price_m2_u6.describe(percentiles = [0.25, 0.5, 0.75, 0.9, 0.99])"
   ]
  },
  {
   "cell_type": "code",
   "execution_count": 12,
   "metadata": {},
   "outputs": [
    {
     "name": "stdout",
     "output_type": "stream",
     "text": [
      "<class 'pandas.core.frame.DataFrame'>\n",
      "Int64Index: 77567 entries, 0 to 187478\n",
      "Data columns (total 2 columns):\n",
      "place_name          77567 non-null object\n",
      "price_usd_per_m2    77567 non-null float64\n",
      "dtypes: float64(1), object(1)\n",
      "memory usage: 1.8+ MB\n"
     ]
    }
   ],
   "source": [
    "#Nos vamos a quedar con price_m2_u6 como DataFrame\n",
    "prop_info = price_m2_u6\n",
    "prop_info.info()"
   ]
  },
  {
   "cell_type": "code",
   "execution_count": 13,
   "metadata": {},
   "outputs": [
    {
     "data": {
      "text/plain": [
       "price_usd_per_m2  mean    503\n",
       "                  size    503\n",
       "dtype: int64"
      ]
     },
     "execution_count": 13,
     "metadata": {},
     "output_type": "execute_result"
    }
   ],
   "source": [
    "#Agrupamos por barrio\n",
    "by_hood = prop_info.groupby('place_name').agg([np.mean, np.size])\n",
    "by_hood.count()"
   ]
  },
  {
   "cell_type": "markdown",
   "metadata": {},
   "source": [
    "###### Nos vamos a quedar solo con los distritos que tengan 75 propiedades o mas"
   ]
  },
  {
   "cell_type": "code",
   "execution_count": 14,
   "metadata": {},
   "outputs": [
    {
     "data": {
      "text/plain": [
       "place_name\n",
       "Puerto Madero                   5230.236679\n",
       "Palermo Chico                   4357.523774\n",
       "Las Cañitas                     3561.921867\n",
       "Recoleta                        3288.857412\n",
       "Palermo                         3195.796578\n",
       "Palermo Hollywood               3190.987068\n",
       "Palermo Soho                    3173.404003\n",
       "Belgrano                        3043.939144\n",
       "Barrio Norte                    2941.353331\n",
       "Nuñez                           2936.766880\n",
       "Vicente López                   2804.141018\n",
       "Retiro                          2783.768058\n",
       "La Lucila                       2657.838923\n",
       "Olivos                          2567.123005\n",
       "Villa Crespo                    2491.023340\n",
       "Colegiales                      2478.300069\n",
       "Coghlan                         2473.002590\n",
       "Villa Urquiza                   2466.266191\n",
       "Santa Barbara Barrio Cerrado    2464.417623\n",
       "Caballito                       2398.719787\n",
       "Name: (price_usd_per_m2, mean), dtype: float64"
      ]
     },
     "execution_count": 14,
     "metadata": {},
     "output_type": "execute_result"
    }
   ],
   "source": [
    "#Top de precio del metro cuadrado\n",
    "top20 = by_hood[by_hood[('price_usd_per_m2', 'size')] >= 75]\n",
    "top20 = top20.sort_values(('price_usd_per_m2', 'mean'), ascending = False).head(20)\n",
    "top20[('price_usd_per_m2', 'mean')]"
   ]
  },
  {
   "cell_type": "markdown",
   "metadata": {},
   "source": [
    "###### Graficamos los valores del top20 y vemos que si bien al principio la diferencia es grande, luego se estabiliza la variacion entre precios por metro cuadrado. Es decir, la ciudad en general tiene poca variacion entre precios excepto por algunas zonas en particular."
   ]
  },
  {
   "cell_type": "code",
   "execution_count": 15,
   "metadata": {},
   "outputs": [
    {
     "data": {
      "text/plain": [
       "<matplotlib.axes._subplots.AxesSubplot at 0x7f5d3c0d1290>"
      ]
     },
     "execution_count": 15,
     "metadata": {},
     "output_type": "execute_result"
    },
    {
     "data": {
      "image/png": "[encoded data removed]",
      "text/plain": [
       "<matplotlib.figure.Figure at 0x7f5d3c0d1c10>"
      ]
     },
     "metadata": {},
     "output_type": "display_data"
    }
   ],
   "source": [
    "top20[('price_usd_per_m2', 'mean')].head(20).plot(kind = 'bar', figsize = (15, 8))"
   ]
  },
  {
   "cell_type": "markdown",
   "metadata": {},
   "source": [
    "###### ¿Que representan las propiedades que tienen como place_name 'Palermo'? ¿No se pisan con las divisiones? ¿Conviene usar solo 'Palermo' y unificar todos? ¿O sacar 'Palermo' y usar las divisiones? (Para mi es mejor esto último)"
   ]
  },
  {
   "cell_type": "code",
   "execution_count": 16,
   "metadata": {},
   "outputs": [
    {
     "data": {
      "text/plain": [
       "place_name\n",
       "Jose Leon Suarez            956.720941\n",
       "San Martín                  943.750039\n",
       "Boulogne Sur Mer            896.096890\n",
       "Ituzaingó                   886.822613\n",
       "Bella Vista                 818.653571\n",
       "Don Torcuato                785.145597\n",
       "General Rodríguez           774.346180\n",
       "Merlo                       765.857200\n",
       "Hurlingham                  737.216029\n",
       "Los Polvorines              682.917192\n",
       "Glew                        676.272922\n",
       "Belén de Escobar            654.266685\n",
       "Burzaco                     634.938417\n",
       "Bs.As. G.B.A. Zona Oeste    622.909701\n",
       "Tortuguitas                 612.536949\n",
       "Benavidez                   591.762793\n",
       "José C Paz                  576.403000\n",
       "Parque Leloir               558.735937\n",
       "Maschwitz                   485.601888\n",
       "Delta                       247.089618\n",
       "Name: (price_usd_per_m2, mean), dtype: float64"
      ]
     },
     "execution_count": 16,
     "metadata": {},
     "output_type": "execute_result"
    }
   ],
   "source": [
    "#Bottom de precio del metro cuadrado\n",
    "bottom20 = by_hood[by_hood[('price_usd_per_m2', 'size')] >= 75]\n",
    "bottom20 = bottom20.sort_values(('price_usd_per_m2', 'mean'), ascending = False).tail(20)\n",
    "bottom20[('price_usd_per_m2', 'mean')]"
   ]
  },
  {
   "cell_type": "markdown",
   "metadata": {},
   "source": [
    "###### Hay que ver que se hace con 'Bs.As. G.B.A. Zona XXXXX'. Como engloban demasiados barrios, lo mejor creo que seria sacarlo"
   ]
  },
  {
   "cell_type": "code",
   "execution_count": 17,
   "metadata": {},
   "outputs": [
    {
     "data": {
      "text/plain": [
       "<matplotlib.axes._subplots.AxesSubplot at 0x7f5d3e791450>"
      ]
     },
     "execution_count": 17,
     "metadata": {},
     "output_type": "execute_result"
    },
    {
     "data": {
      "image/png": "[encoded data removed]",
      "text/plain": [
       "<matplotlib.figure.Figure at 0x7f5d3e7ee790>"
      ]
     },
     "metadata": {},
     "output_type": "display_data"
    }
   ],
   "source": [
    "bottom20[('price_usd_per_m2', 'mean')].head(20).plot(kind = 'bar', figsize = (15, 8))"
   ]
  },
  {
   "cell_type": "markdown",
   "metadata": {},
   "source": [
    "###### Vamos a ver como varia el precio por metro cuadrado en la parte 'central' (basicamente corroborar si es que en la mayoria de la ciudad los precios son similares). Miramos el rango [25% - 75%]"
   ]
  },
  {
   "cell_type": "code",
   "execution_count": 18,
   "metadata": {},
   "outputs": [
    {
     "data": {
      "text/html": [
       "<div>\n",
       "<style>\n",
       "    .dataframe thead tr:only-child th {\n",
       "        text-align: right;\n",
       "    }\n",
       "\n",
       "    .dataframe thead th {\n",
       "        text-align: left;\n",
       "    }\n",
       "\n",
       "    .dataframe tbody tr th {\n",
       "        vertical-align: top;\n",
       "    }\n",
       "</style>\n",
       "<table border=\"1\" class=\"dataframe\">\n",
       "  <thead>\n",
       "    <tr>\n",
       "      <th></th>\n",
       "      <th colspan=\"2\" halign=\"left\">price_usd_per_m2</th>\n",
       "    </tr>\n",
       "    <tr>\n",
       "      <th></th>\n",
       "      <th>mean</th>\n",
       "      <th>size</th>\n",
       "    </tr>\n",
       "  </thead>\n",
       "  <tbody>\n",
       "    <tr>\n",
       "      <th>count</th>\n",
       "      <td>90.000000</td>\n",
       "      <td>90.000000</td>\n",
       "    </tr>\n",
       "    <tr>\n",
       "      <th>mean</th>\n",
       "      <td>1562.719633</td>\n",
       "      <td>494.200000</td>\n",
       "    </tr>\n",
       "    <tr>\n",
       "      <th>std</th>\n",
       "      <td>343.063595</td>\n",
       "      <td>586.026847</td>\n",
       "    </tr>\n",
       "    <tr>\n",
       "      <th>min</th>\n",
       "      <td>1015.243859</td>\n",
       "      <td>76.000000</td>\n",
       "    </tr>\n",
       "    <tr>\n",
       "      <th>25%</th>\n",
       "      <td>1275.997647</td>\n",
       "      <td>158.250000</td>\n",
       "    </tr>\n",
       "    <tr>\n",
       "      <th>50%</th>\n",
       "      <td>1476.321283</td>\n",
       "      <td>313.500000</td>\n",
       "    </tr>\n",
       "    <tr>\n",
       "      <th>75%</th>\n",
       "      <td>1862.102217</td>\n",
       "      <td>536.250000</td>\n",
       "    </tr>\n",
       "    <tr>\n",
       "      <th>max</th>\n",
       "      <td>2196.395914</td>\n",
       "      <td>3444.000000</td>\n",
       "    </tr>\n",
       "  </tbody>\n",
       "</table>\n",
       "</div>"
      ],
      "text/plain": [
       "      price_usd_per_m2             \n",
       "                  mean         size\n",
       "count        90.000000    90.000000\n",
       "mean       1562.719633   494.200000\n",
       "std         343.063595   586.026847\n",
       "min        1015.243859    76.000000\n",
       "25%        1275.997647   158.250000\n",
       "50%        1476.321283   313.500000\n",
       "75%        1862.102217   536.250000\n",
       "max        2196.395914  3444.000000"
      ]
     },
     "execution_count": 18,
     "metadata": {},
     "output_type": "execute_result"
    }
   ],
   "source": [
    "#Bottom de precio del metro cuadrado\n",
    "mid_range = by_hood[by_hood[('price_usd_per_m2', 'size')] >= 75]\n",
    "mid_range = mid_range.sort_values(('price_usd_per_m2', 'mean'), ascending = False)[25:115] #140*0.25 - 140*0.75\n",
    "mid_range.describe()\n",
    "#La distribucion parece bastante normal!"
   ]
  },
  {
   "cell_type": "markdown",
   "metadata": {},
   "source": [
    "###### Si bien el valor del m2 disminuye casi a la mitad (lo que nos pincha un poco la hipotesis), el gráfico sirve para ver que hay 'grupos' de barrios con precios similares. Es decir, 4 o 5 barrios con variacion muy pequeña, un salto, otros 4 o 5 barrios con variacion muy pequeña, otro salto, etc. "
   ]
  },
  {
   "cell_type": "code",
   "execution_count": 19,
   "metadata": {},
   "outputs": [
    {
     "data": {
      "text/plain": [
       "<matplotlib.axes._subplots.AxesSubplot at 0x7f5d3e7ccc90>"
      ]
     },
     "execution_count": 19,
     "metadata": {},
     "output_type": "execute_result"
    },
    {
     "data": {
      "image/png": "[encoded data removed]",
      "text/plain": [
       "<matplotlib.figure.Figure at 0x7f5d4142acd0>"
      ]
     },
     "metadata": {},
     "output_type": "display_data"
    }
   ],
   "source": [
    "mid_range[('price_usd_per_m2', 'mean')].plot(kind = 'bar', figsize = (15, 8))"
   ]
  }
 ],
 "metadata": {
  "kernelspec": {
   "display_name": "Python 2",
   "language": "python",
   "name": "python2"
  },
  "language_info": {
   "codemirror_mode": {
    "name": "ipython",
    "version": 2
   },
   "file_extension": ".py",
   "mimetype": "text/x-python",
   "name": "python",
   "nbconvert_exporter": "python",
   "pygments_lexer": "ipython2",
   "version": "2.7.13"
  }
 },
 "nbformat": 4,
 "nbformat_minor": 2
}
