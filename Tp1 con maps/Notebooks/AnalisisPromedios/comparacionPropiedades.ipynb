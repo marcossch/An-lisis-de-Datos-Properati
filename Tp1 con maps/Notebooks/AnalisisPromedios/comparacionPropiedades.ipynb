{
 "cells": [
  {
   "cell_type": "code",
   "execution_count": 1,
   "metadata": {
    "collapsed": true
   },
   "outputs": [],
   "source": [
    "import pandas as pd\n",
    "import numpy as np\n",
    "import matplotlib.pyplot as plt\n",
    "import cPickle as pickle\n",
    "%matplotlib inline"
   ]
  },
  {
   "cell_type": "markdown",
   "metadata": {},
   "source": [
    "# Link de descarga de los datos"
   ]
  },
  {
   "cell_type": "markdown",
   "metadata": {},
   "source": [
    "https://drive.google.com/file/d/0B8VK9_Q95m8fclhlWVoxOWhGSWc/view"
   ]
  },
  {
   "cell_type": "markdown",
   "metadata": {},
   "source": [
    "# Cargamos los datos"
   ]
  },
  {
   "cell_type": "code",
   "execution_count": 2,
   "metadata": {
    "collapsed": true
   },
   "outputs": [],
   "source": [
    "propertyD = pickle.load(open(\"../../../datos/Data.p\",\"rb\"))"
   ]
  },
  {
   "cell_type": "markdown",
   "metadata": {},
   "source": [
    "Lo que queremos hacer es analizar la variacion de los precios de las propiedades, a lo largo del tiempo.\n",
    "Entonces lo que vamos a hacer es ir agrupando las propiedades por meses y hacemos un promedio."
   ]
  },
  {
   "cell_type": "markdown",
   "metadata": {},
   "source": [
    "# Primero acomodo las fechas!"
   ]
  },
  {
   "cell_type": "code",
   "execution_count": 3,
   "metadata": {
    "collapsed": true
   },
   "outputs": [],
   "source": [
    "propiedades = propertyD[['id','created_on','price_aprox_usd','property_type']]"
   ]
  },
  {
   "cell_type": "code",
   "execution_count": 4,
   "metadata": {},
   "outputs": [
    {
     "name": "stderr",
     "output_type": "stream",
     "text": [
      "/home/facundo/.local/lib/python2.7/site-packages/ipykernel_launcher.py:2: SettingWithCopyWarning: \n",
      "A value is trying to be set on a copy of a slice from a DataFrame.\n",
      "Try using .loc[row_indexer,col_indexer] = value instead\n",
      "\n",
      "See the caveats in the documentation: http://pandas.pydata.org/pandas-docs/stable/indexing.html#indexing-view-versus-copy\n",
      "  \n",
      "/home/facundo/.local/lib/python2.7/site-packages/ipykernel_launcher.py:3: SettingWithCopyWarning: \n",
      "A value is trying to be set on a copy of a slice from a DataFrame.\n",
      "Try using .loc[row_indexer,col_indexer] = value instead\n",
      "\n",
      "See the caveats in the documentation: http://pandas.pydata.org/pandas-docs/stable/indexing.html#indexing-view-versus-copy\n",
      "  This is separate from the ipykernel package so we can avoid doing imports until\n",
      "/home/facundo/.local/lib/python2.7/site-packages/ipykernel_launcher.py:6: SettingWithCopyWarning: \n",
      "A value is trying to be set on a copy of a slice from a DataFrame.\n",
      "Try using .loc[row_indexer,col_indexer] = value instead\n",
      "\n",
      "See the caveats in the documentation: http://pandas.pydata.org/pandas-docs/stable/indexing.html#indexing-view-versus-copy\n",
      "  \n",
      "/home/facundo/.local/lib/python2.7/site-packages/ipykernel_launcher.py:7: SettingWithCopyWarning: \n",
      "A value is trying to be set on a copy of a slice from a DataFrame.\n",
      "Try using .loc[row_indexer,col_indexer] = value instead\n",
      "\n",
      "See the caveats in the documentation: http://pandas.pydata.org/pandas-docs/stable/indexing.html#indexing-view-versus-copy\n",
      "  import sys\n"
     ]
    }
   ],
   "source": [
    "#Le agrego una columna que es el año\n",
    "propiedades['year'] = propiedades['created_on']\n",
    "propiedades['year'] = propiedades['year'].apply(lambda x: int(x[0:4]))\n",
    "\n",
    "#Le agrego una columna que es el mes\n",
    "propiedades['month'] = propiedades['created_on']\n",
    "propiedades['month'] = propiedades['month'].apply(lambda x: int(x[5:7]))"
   ]
  },
  {
   "cell_type": "markdown",
   "metadata": {},
   "source": [
    "# Ahora paso a separar las propiedades por años"
   ]
  },
  {
   "cell_type": "code",
   "execution_count": 5,
   "metadata": {
    "collapsed": true
   },
   "outputs": [],
   "source": [
    "prop2013 = propiedades[ propiedades['year'] == 2013 ]\n",
    "prop2014 = propiedades[ propiedades['year'] == 2014 ]\n",
    "prop2015 = propiedades[ propiedades['year'] == 2015 ]\n",
    "prop2016 = propiedades[ propiedades['year'] == 2016 ]\n",
    "prop2017 = propiedades[ propiedades['year'] == 2017 ]"
   ]
  },
  {
   "cell_type": "markdown",
   "metadata": {},
   "source": [
    "# Ahora que las tenemos separadas por año, vamos a agrupar las propiedades de un año por mes"
   ]
  },
  {
   "cell_type": "code",
   "execution_count": 6,
   "metadata": {
    "collapsed": true
   },
   "outputs": [],
   "source": [
    "c2013 = prop2013[prop2013['property_type']=='house']\n",
    "c2013 = c2013[['month','price_aprox_usd']].groupby('month').agg(np.mean)\n",
    "\n",
    "c2014 = prop2014[prop2014['property_type']=='house']\n",
    "c2014 = c2014[['month','price_aprox_usd']].groupby('month').agg(np.mean)\n",
    "\n",
    "c2015 = prop2015[prop2015['property_type']=='house']\n",
    "c2015 = c2015[['month','price_aprox_usd']].groupby('month').agg(np.mean)\n",
    "\n",
    "c2016 = prop2016[prop2016['property_type']=='house']\n",
    "c2016 = c2016[['month','price_aprox_usd']].groupby('month').agg(np.mean)\n",
    "\n",
    "c2017 = prop2017[prop2017['property_type']=='house']\n",
    "c2017 = c2017[['month','price_aprox_usd']].groupby('month').agg(np.mean)"
   ]
  },
  {
   "cell_type": "code",
   "execution_count": 7,
   "metadata": {
    "collapsed": true
   },
   "outputs": [],
   "source": [
    "d2013 = prop2013[prop2013['property_type']=='apartment']\n",
    "d2013 = d2013[['month','price_aprox_usd']].groupby('month').agg(np.mean)\n",
    "\n",
    "d2014 = prop2014[prop2014['property_type']=='apartment']\n",
    "d2014 = d2014[['month','price_aprox_usd']].groupby('month').agg(np.mean)\n",
    "\n",
    "d2015 = prop2015[prop2015['property_type']=='apartment']\n",
    "d2015 = d2015[['month','price_aprox_usd']].groupby('month').agg(np.mean)\n",
    "\n",
    "d2016 = prop2016[prop2016['property_type']=='apartment']\n",
    "d2016 = d2016[['month','price_aprox_usd']].groupby('month').agg(np.mean)\n",
    "\n",
    "d2017 = prop2017[prop2017['property_type']=='apartment']\n",
    "d2017 = d2017[['month','price_aprox_usd']].groupby('month').agg(np.mean)"
   ]
  },
  {
   "cell_type": "code",
   "execution_count": 8,
   "metadata": {
    "collapsed": true
   },
   "outputs": [],
   "source": [
    "p2013 = prop2013[prop2013['property_type']=='PH']\n",
    "p2013 = p2013[['month','price_aprox_usd']].groupby('month').agg(np.mean)\n",
    "\n",
    "p2014 = prop2014[prop2014['property_type']=='PH']\n",
    "p2014 = p2014[['month','price_aprox_usd']].groupby('month').agg(np.mean)\n",
    "\n",
    "p2015 = prop2015[prop2015['property_type']=='PH']\n",
    "p2015 = p2015[['month','price_aprox_usd']].groupby('month').agg(np.mean)\n",
    "\n",
    "p2016 = prop2016[prop2016['property_type']=='PH']\n",
    "p2016 = p2016[['month','price_aprox_usd']].groupby('month').agg(np.mean)\n",
    "\n",
    "p2017 = prop2017[prop2017['property_type']=='PH']\n",
    "p2017 = p2017[['month','price_aprox_usd']].groupby('month').agg(np.mean)"
   ]
  },
  {
   "cell_type": "code",
   "execution_count": 9,
   "metadata": {
    "collapsed": true
   },
   "outputs": [],
   "source": [
    "l=[1,2,3,4,5,6,7,8,9,10,11]"
   ]
  },
  {
   "cell_type": "markdown",
   "metadata": {},
   "source": [
    "# Unimos los distintos tipos de propiedades en 1 Dataframe, para graficar"
   ]
  },
  {
   "cell_type": "code",
   "execution_count": 10,
   "metadata": {},
   "outputs": [
    {
     "data": {
      "text/html": [
       "<div>\n",
       "<style>\n",
       "    .dataframe thead tr:only-child th {\n",
       "        text-align: right;\n",
       "    }\n",
       "\n",
       "    .dataframe thead th {\n",
       "        text-align: left;\n",
       "    }\n",
       "\n",
       "    .dataframe tbody tr th {\n",
       "        vertical-align: top;\n",
       "    }\n",
       "</style>\n",
       "<table border=\"1\" class=\"dataframe\">\n",
       "  <thead>\n",
       "    <tr style=\"text-align: right;\">\n",
       "      <th></th>\n",
       "      <th>casas</th>\n",
       "      <th>deptos</th>\n",
       "      <th>ph</th>\n",
       "    </tr>\n",
       "    <tr>\n",
       "      <th>month</th>\n",
       "      <th></th>\n",
       "      <th></th>\n",
       "      <th></th>\n",
       "    </tr>\n",
       "  </thead>\n",
       "  <tbody>\n",
       "    <tr>\n",
       "      <th>5</th>\n",
       "      <td>201424.137931</td>\n",
       "      <td>145369.135135</td>\n",
       "      <td>122352.941176</td>\n",
       "    </tr>\n",
       "    <tr>\n",
       "      <th>6</th>\n",
       "      <td>310000.000000</td>\n",
       "      <td>90333.333333</td>\n",
       "      <td>NaN</td>\n",
       "    </tr>\n",
       "    <tr>\n",
       "      <th>7</th>\n",
       "      <td>187500.000000</td>\n",
       "      <td>128444.444444</td>\n",
       "      <td>NaN</td>\n",
       "    </tr>\n",
       "    <tr>\n",
       "      <th>8</th>\n",
       "      <td>145714.285714</td>\n",
       "      <td>67500.000000</td>\n",
       "      <td>50000.000000</td>\n",
       "    </tr>\n",
       "    <tr>\n",
       "      <th>9</th>\n",
       "      <td>169000.000000</td>\n",
       "      <td>73857.142857</td>\n",
       "      <td>NaN</td>\n",
       "    </tr>\n",
       "    <tr>\n",
       "      <th>10</th>\n",
       "      <td>282500.000000</td>\n",
       "      <td>87571.428571</td>\n",
       "      <td>103500.000000</td>\n",
       "    </tr>\n",
       "    <tr>\n",
       "      <th>11</th>\n",
       "      <td>184285.714286</td>\n",
       "      <td>100857.142857</td>\n",
       "      <td>92000.000000</td>\n",
       "    </tr>\n",
       "    <tr>\n",
       "      <th>12</th>\n",
       "      <td>110000.000000</td>\n",
       "      <td>107000.000000</td>\n",
       "      <td>NaN</td>\n",
       "    </tr>\n",
       "  </tbody>\n",
       "</table>\n",
       "</div>"
      ],
      "text/plain": [
       "               casas         deptos             ph\n",
       "month                                             \n",
       "5      201424.137931  145369.135135  122352.941176\n",
       "6      310000.000000   90333.333333            NaN\n",
       "7      187500.000000  128444.444444            NaN\n",
       "8      145714.285714   67500.000000   50000.000000\n",
       "9      169000.000000   73857.142857            NaN\n",
       "10     282500.000000   87571.428571  103500.000000\n",
       "11     184285.714286  100857.142857   92000.000000\n",
       "12     110000.000000  107000.000000            NaN"
      ]
     },
     "execution_count": 10,
     "metadata": {},
     "output_type": "execute_result"
    }
   ],
   "source": [
    "pro2013 = c2013\n",
    "pro2013.columns = ['casas']\n",
    "pro2013['deptos'] = d2013\n",
    "pro2013['ph'] = p2013\n",
    "pro2013.head(10)"
   ]
  },
  {
   "cell_type": "code",
   "execution_count": 11,
   "metadata": {},
   "outputs": [
    {
     "data": {
      "text/plain": [
       "<matplotlib.axes._subplots.AxesSubplot at 0x7fde42b9b3d0>"
      ]
     },
     "execution_count": 11,
     "metadata": {},
     "output_type": "execute_result"
    },
    {
     "data": {
      "image/png": "[encoded data removed]",
      "text/plain": [
       "<matplotlib.figure.Figure at 0x7fde42b9ba50>"
      ]
     },
     "metadata": {},
     "output_type": "display_data"
    }
   ],
   "source": [
    "pro2013.plot(kind='bar',figsize=(15,8), title = 'Propiedades 2013', grid =True, xticks=l)"
   ]
  },
  {
   "cell_type": "code",
   "execution_count": 13,
   "metadata": {},
   "outputs": [
    {
     "data": {
      "text/html": [
       "<div>\n",
       "<style>\n",
       "    .dataframe thead tr:only-child th {\n",
       "        text-align: right;\n",
       "    }\n",
       "\n",
       "    .dataframe thead th {\n",
       "        text-align: left;\n",
       "    }\n",
       "\n",
       "    .dataframe tbody tr th {\n",
       "        vertical-align: top;\n",
       "    }\n",
       "</style>\n",
       "<table border=\"1\" class=\"dataframe\">\n",
       "  <thead>\n",
       "    <tr style=\"text-align: right;\">\n",
       "      <th></th>\n",
       "      <th>casas</th>\n",
       "      <th>deptos</th>\n",
       "      <th>ph</th>\n",
       "    </tr>\n",
       "    <tr>\n",
       "      <th>month</th>\n",
       "      <th></th>\n",
       "      <th></th>\n",
       "      <th></th>\n",
       "    </tr>\n",
       "  </thead>\n",
       "  <tbody>\n",
       "    <tr>\n",
       "      <th>1</th>\n",
       "      <td>180545.454545</td>\n",
       "      <td>147160.000000</td>\n",
       "      <td>240000.000000</td>\n",
       "    </tr>\n",
       "    <tr>\n",
       "      <th>2</th>\n",
       "      <td>142333.333333</td>\n",
       "      <td>472250.000000</td>\n",
       "      <td>NaN</td>\n",
       "    </tr>\n",
       "    <tr>\n",
       "      <th>3</th>\n",
       "      <td>184684.434730</td>\n",
       "      <td>138180.975562</td>\n",
       "      <td>109268.781212</td>\n",
       "    </tr>\n",
       "    <tr>\n",
       "      <th>4</th>\n",
       "      <td>226510.000000</td>\n",
       "      <td>159472.222222</td>\n",
       "      <td>79600.000000</td>\n",
       "    </tr>\n",
       "    <tr>\n",
       "      <th>5</th>\n",
       "      <td>295914.285714</td>\n",
       "      <td>195954.285714</td>\n",
       "      <td>86777.777778</td>\n",
       "    </tr>\n",
       "    <tr>\n",
       "      <th>6</th>\n",
       "      <td>214610.918324</td>\n",
       "      <td>152088.687456</td>\n",
       "      <td>191333.333333</td>\n",
       "    </tr>\n",
       "    <tr>\n",
       "      <th>7</th>\n",
       "      <td>239986.111111</td>\n",
       "      <td>201394.444444</td>\n",
       "      <td>100083.333333</td>\n",
       "    </tr>\n",
       "    <tr>\n",
       "      <th>8</th>\n",
       "      <td>215794.117647</td>\n",
       "      <td>199280.352903</td>\n",
       "      <td>100250.000000</td>\n",
       "    </tr>\n",
       "    <tr>\n",
       "      <th>9</th>\n",
       "      <td>273593.558437</td>\n",
       "      <td>107048.880889</td>\n",
       "      <td>87385.714286</td>\n",
       "    </tr>\n",
       "    <tr>\n",
       "      <th>10</th>\n",
       "      <td>167637.791304</td>\n",
       "      <td>182770.212766</td>\n",
       "      <td>109545.454545</td>\n",
       "    </tr>\n",
       "  </tbody>\n",
       "</table>\n",
       "</div>"
      ],
      "text/plain": [
       "               casas         deptos             ph\n",
       "month                                             \n",
       "1      180545.454545  147160.000000  240000.000000\n",
       "2      142333.333333  472250.000000            NaN\n",
       "3      184684.434730  138180.975562  109268.781212\n",
       "4      226510.000000  159472.222222   79600.000000\n",
       "5      295914.285714  195954.285714   86777.777778\n",
       "6      214610.918324  152088.687456  191333.333333\n",
       "7      239986.111111  201394.444444  100083.333333\n",
       "8      215794.117647  199280.352903  100250.000000\n",
       "9      273593.558437  107048.880889   87385.714286\n",
       "10     167637.791304  182770.212766  109545.454545"
      ]
     },
     "execution_count": 13,
     "metadata": {},
     "output_type": "execute_result"
    }
   ],
   "source": [
    "pro2014 = c2014\n",
    "pro2014.columns = ['casas']\n",
    "pro2014['deptos'] = d2014\n",
    "pro2014['ph'] = p2014\n",
    "pro2014.head(10)"
   ]
  },
  {
   "cell_type": "code",
   "execution_count": 14,
   "metadata": {},
   "outputs": [
    {
     "data": {
      "text/plain": [
       "<matplotlib.axes._subplots.AxesSubplot at 0x7fde426d5450>"
      ]
     },
     "execution_count": 14,
     "metadata": {},
     "output_type": "execute_result"
    },
    {
     "data": {
      "image/png": "[encoded data removed]",
      "text/plain": [
       "<matplotlib.figure.Figure at 0x7fde4741d590>"
      ]
     },
     "metadata": {},
     "output_type": "display_data"
    }
   ],
   "source": [
    "pro2014.plot(kind='bar',figsize=(15,8), title = 'Propiedades 2014', grid =True, xticks=l)"
   ]
  },
  {
   "cell_type": "code",
   "execution_count": 15,
   "metadata": {},
   "outputs": [
    {
     "data": {
      "text/html": [
       "<div>\n",
       "<style>\n",
       "    .dataframe thead tr:only-child th {\n",
       "        text-align: right;\n",
       "    }\n",
       "\n",
       "    .dataframe thead th {\n",
       "        text-align: left;\n",
       "    }\n",
       "\n",
       "    .dataframe tbody tr th {\n",
       "        vertical-align: top;\n",
       "    }\n",
       "</style>\n",
       "<table border=\"1\" class=\"dataframe\">\n",
       "  <thead>\n",
       "    <tr style=\"text-align: right;\">\n",
       "      <th></th>\n",
       "      <th>casas</th>\n",
       "      <th>deptos</th>\n",
       "      <th>ph</th>\n",
       "    </tr>\n",
       "    <tr>\n",
       "      <th>month</th>\n",
       "      <th></th>\n",
       "      <th></th>\n",
       "      <th></th>\n",
       "    </tr>\n",
       "  </thead>\n",
       "  <tbody>\n",
       "    <tr>\n",
       "      <th>1</th>\n",
       "      <td>326039.058824</td>\n",
       "      <td>398028.337079</td>\n",
       "      <td>80363.636364</td>\n",
       "    </tr>\n",
       "    <tr>\n",
       "      <th>2</th>\n",
       "      <td>185007.073171</td>\n",
       "      <td>115958.079469</td>\n",
       "      <td>164666.666667</td>\n",
       "    </tr>\n",
       "    <tr>\n",
       "      <th>3</th>\n",
       "      <td>592020.619335</td>\n",
       "      <td>168176.198217</td>\n",
       "      <td>173261.904762</td>\n",
       "    </tr>\n",
       "    <tr>\n",
       "      <th>4</th>\n",
       "      <td>476346.153846</td>\n",
       "      <td>180115.212785</td>\n",
       "      <td>109760.000000</td>\n",
       "    </tr>\n",
       "    <tr>\n",
       "      <th>5</th>\n",
       "      <td>390613.106076</td>\n",
       "      <td>183612.254472</td>\n",
       "      <td>158238.985294</td>\n",
       "    </tr>\n",
       "    <tr>\n",
       "      <th>6</th>\n",
       "      <td>436747.129903</td>\n",
       "      <td>364430.674407</td>\n",
       "      <td>106350.000000</td>\n",
       "    </tr>\n",
       "    <tr>\n",
       "      <th>7</th>\n",
       "      <td>282632.600000</td>\n",
       "      <td>150653.965877</td>\n",
       "      <td>113877.906977</td>\n",
       "    </tr>\n",
       "    <tr>\n",
       "      <th>8</th>\n",
       "      <td>357660.032478</td>\n",
       "      <td>167020.091134</td>\n",
       "      <td>94842.105263</td>\n",
       "    </tr>\n",
       "    <tr>\n",
       "      <th>9</th>\n",
       "      <td>344578.580929</td>\n",
       "      <td>139355.099876</td>\n",
       "      <td>100933.333333</td>\n",
       "    </tr>\n",
       "    <tr>\n",
       "      <th>10</th>\n",
       "      <td>274183.140603</td>\n",
       "      <td>142608.241815</td>\n",
       "      <td>106699.065417</td>\n",
       "    </tr>\n",
       "  </tbody>\n",
       "</table>\n",
       "</div>"
      ],
      "text/plain": [
       "               casas         deptos             ph\n",
       "month                                             \n",
       "1      326039.058824  398028.337079   80363.636364\n",
       "2      185007.073171  115958.079469  164666.666667\n",
       "3      592020.619335  168176.198217  173261.904762\n",
       "4      476346.153846  180115.212785  109760.000000\n",
       "5      390613.106076  183612.254472  158238.985294\n",
       "6      436747.129903  364430.674407  106350.000000\n",
       "7      282632.600000  150653.965877  113877.906977\n",
       "8      357660.032478  167020.091134   94842.105263\n",
       "9      344578.580929  139355.099876  100933.333333\n",
       "10     274183.140603  142608.241815  106699.065417"
      ]
     },
     "execution_count": 15,
     "metadata": {},
     "output_type": "execute_result"
    }
   ],
   "source": [
    "pro2015 = c2015\n",
    "pro2015.columns = ['casas']\n",
    "pro2015['deptos'] = d2015\n",
    "pro2015['ph'] = p2015\n",
    "pro2015.head(10)"
   ]
  },
  {
   "cell_type": "code",
   "execution_count": 16,
   "metadata": {},
   "outputs": [
    {
     "data": {
      "text/plain": [
       "<matplotlib.axes._subplots.AxesSubplot at 0x7fde42ded490>"
      ]
     },
     "execution_count": 16,
     "metadata": {},
     "output_type": "execute_result"
    },
    {
     "data": {
      "image/png": "[encoded data removed]",
      "text/plain": [
       "<matplotlib.figure.Figure at 0x7fde44df46d0>"
      ]
     },
     "metadata": {},
     "output_type": "display_data"
    }
   ],
   "source": [
    "pro2015.plot(kind='bar',figsize=(15,8), title = 'Propiedades 2015', grid =True, xticks=l)"
   ]
  },
  {
   "cell_type": "code",
   "execution_count": 17,
   "metadata": {},
   "outputs": [
    {
     "data": {
      "text/html": [
       "<div>\n",
       "<style>\n",
       "    .dataframe thead tr:only-child th {\n",
       "        text-align: right;\n",
       "    }\n",
       "\n",
       "    .dataframe thead th {\n",
       "        text-align: left;\n",
       "    }\n",
       "\n",
       "    .dataframe tbody tr th {\n",
       "        vertical-align: top;\n",
       "    }\n",
       "</style>\n",
       "<table border=\"1\" class=\"dataframe\">\n",
       "  <thead>\n",
       "    <tr style=\"text-align: right;\">\n",
       "      <th></th>\n",
       "      <th>casas</th>\n",
       "      <th>deptos</th>\n",
       "      <th>ph</th>\n",
       "    </tr>\n",
       "    <tr>\n",
       "      <th>month</th>\n",
       "      <th></th>\n",
       "      <th></th>\n",
       "      <th></th>\n",
       "    </tr>\n",
       "  </thead>\n",
       "  <tbody>\n",
       "    <tr>\n",
       "      <th>1</th>\n",
       "      <td>352475.374000</td>\n",
       "      <td>185915.842788</td>\n",
       "      <td>136850.000000</td>\n",
       "    </tr>\n",
       "    <tr>\n",
       "      <th>2</th>\n",
       "      <td>373677.301801</td>\n",
       "      <td>251691.405847</td>\n",
       "      <td>131250.000000</td>\n",
       "    </tr>\n",
       "    <tr>\n",
       "      <th>3</th>\n",
       "      <td>366449.469500</td>\n",
       "      <td>156621.906678</td>\n",
       "      <td>117537.274462</td>\n",
       "    </tr>\n",
       "    <tr>\n",
       "      <th>4</th>\n",
       "      <td>388280.913522</td>\n",
       "      <td>173621.140640</td>\n",
       "      <td>416723.371373</td>\n",
       "    </tr>\n",
       "    <tr>\n",
       "      <th>5</th>\n",
       "      <td>275681.697613</td>\n",
       "      <td>137507.590399</td>\n",
       "      <td>114454.169302</td>\n",
       "    </tr>\n",
       "    <tr>\n",
       "      <th>6</th>\n",
       "      <td>423942.211738</td>\n",
       "      <td>197763.513159</td>\n",
       "      <td>133698.113208</td>\n",
       "    </tr>\n",
       "    <tr>\n",
       "      <th>7</th>\n",
       "      <td>435568.912074</td>\n",
       "      <td>169344.733657</td>\n",
       "      <td>160822.705102</td>\n",
       "    </tr>\n",
       "    <tr>\n",
       "      <th>8</th>\n",
       "      <td>400970.712439</td>\n",
       "      <td>183328.528552</td>\n",
       "      <td>140227.777778</td>\n",
       "    </tr>\n",
       "    <tr>\n",
       "      <th>9</th>\n",
       "      <td>386212.519091</td>\n",
       "      <td>195738.318282</td>\n",
       "      <td>135345.483902</td>\n",
       "    </tr>\n",
       "    <tr>\n",
       "      <th>10</th>\n",
       "      <td>394997.592721</td>\n",
       "      <td>196795.744679</td>\n",
       "      <td>144412.320755</td>\n",
       "    </tr>\n",
       "  </tbody>\n",
       "</table>\n",
       "</div>"
      ],
      "text/plain": [
       "               casas         deptos             ph\n",
       "month                                             \n",
       "1      352475.374000  185915.842788  136850.000000\n",
       "2      373677.301801  251691.405847  131250.000000\n",
       "3      366449.469500  156621.906678  117537.274462\n",
       "4      388280.913522  173621.140640  416723.371373\n",
       "5      275681.697613  137507.590399  114454.169302\n",
       "6      423942.211738  197763.513159  133698.113208\n",
       "7      435568.912074  169344.733657  160822.705102\n",
       "8      400970.712439  183328.528552  140227.777778\n",
       "9      386212.519091  195738.318282  135345.483902\n",
       "10     394997.592721  196795.744679  144412.320755"
      ]
     },
     "execution_count": 17,
     "metadata": {},
     "output_type": "execute_result"
    }
   ],
   "source": [
    "pro2016 = c2016\n",
    "pro2016.columns = ['casas']\n",
    "pro2016['deptos'] = d2016\n",
    "pro2016['ph'] = p2016\n",
    "pro2016.head(10)"
   ]
  },
  {
   "cell_type": "code",
   "execution_count": 18,
   "metadata": {},
   "outputs": [
    {
     "data": {
      "text/plain": [
       "<matplotlib.axes._subplots.AxesSubplot at 0x7fde42f74190>"
      ]
     },
     "execution_count": 18,
     "metadata": {},
     "output_type": "execute_result"
    },
    {
     "data": {
      "image/png": "[encoded data removed]",
      "text/plain": [
       "<matplotlib.figure.Figure at 0x7fde453762d0>"
      ]
     },
     "metadata": {},
     "output_type": "display_data"
    }
   ],
   "source": [
    "pro2016.plot(kind='bar',figsize=(15,8), title = 'Variacion 2016', grid =True, xticks=l)"
   ]
  },
  {
   "cell_type": "code",
   "execution_count": 19,
   "metadata": {},
   "outputs": [
    {
     "data": {
      "text/html": [
       "<div>\n",
       "<style>\n",
       "    .dataframe thead tr:only-child th {\n",
       "        text-align: right;\n",
       "    }\n",
       "\n",
       "    .dataframe thead th {\n",
       "        text-align: left;\n",
       "    }\n",
       "\n",
       "    .dataframe tbody tr th {\n",
       "        vertical-align: top;\n",
       "    }\n",
       "</style>\n",
       "<table border=\"1\" class=\"dataframe\">\n",
       "  <thead>\n",
       "    <tr style=\"text-align: right;\">\n",
       "      <th></th>\n",
       "      <th>casas</th>\n",
       "      <th>deptos</th>\n",
       "      <th>ph</th>\n",
       "    </tr>\n",
       "    <tr>\n",
       "      <th>month</th>\n",
       "      <th></th>\n",
       "      <th></th>\n",
       "      <th></th>\n",
       "    </tr>\n",
       "  </thead>\n",
       "  <tbody>\n",
       "    <tr>\n",
       "      <th>1</th>\n",
       "      <td>381505.969110</td>\n",
       "      <td>192963.266307</td>\n",
       "      <td>149989.132463</td>\n",
       "    </tr>\n",
       "    <tr>\n",
       "      <th>2</th>\n",
       "      <td>440079.555029</td>\n",
       "      <td>245050.278638</td>\n",
       "      <td>158616.501622</td>\n",
       "    </tr>\n",
       "    <tr>\n",
       "      <th>3</th>\n",
       "      <td>421812.576544</td>\n",
       "      <td>252624.431346</td>\n",
       "      <td>163787.016575</td>\n",
       "    </tr>\n",
       "    <tr>\n",
       "      <th>4</th>\n",
       "      <td>374893.754793</td>\n",
       "      <td>315001.667385</td>\n",
       "      <td>143533.712329</td>\n",
       "    </tr>\n",
       "    <tr>\n",
       "      <th>5</th>\n",
       "      <td>353015.478132</td>\n",
       "      <td>204680.126533</td>\n",
       "      <td>153429.213759</td>\n",
       "    </tr>\n",
       "    <tr>\n",
       "      <th>6</th>\n",
       "      <td>378450.619665</td>\n",
       "      <td>221311.986138</td>\n",
       "      <td>165670.224870</td>\n",
       "    </tr>\n",
       "    <tr>\n",
       "      <th>7</th>\n",
       "      <td>377055.595609</td>\n",
       "      <td>210240.942402</td>\n",
       "      <td>156919.049453</td>\n",
       "    </tr>\n",
       "    <tr>\n",
       "      <th>8</th>\n",
       "      <td>306709.677419</td>\n",
       "      <td>228663.923971</td>\n",
       "      <td>NaN</td>\n",
       "    </tr>\n",
       "  </tbody>\n",
       "</table>\n",
       "</div>"
      ],
      "text/plain": [
       "               casas         deptos             ph\n",
       "month                                             \n",
       "1      381505.969110  192963.266307  149989.132463\n",
       "2      440079.555029  245050.278638  158616.501622\n",
       "3      421812.576544  252624.431346  163787.016575\n",
       "4      374893.754793  315001.667385  143533.712329\n",
       "5      353015.478132  204680.126533  153429.213759\n",
       "6      378450.619665  221311.986138  165670.224870\n",
       "7      377055.595609  210240.942402  156919.049453\n",
       "8      306709.677419  228663.923971            NaN"
      ]
     },
     "execution_count": 19,
     "metadata": {},
     "output_type": "execute_result"
    }
   ],
   "source": [
    "pro2017 = c2017\n",
    "pro2017.columns = ['casas']\n",
    "pro2017['deptos'] = d2017\n",
    "pro2017['ph'] = p2017\n",
    "pro2017.head(10)"
   ]
  },
  {
   "cell_type": "code",
   "execution_count": 20,
   "metadata": {},
   "outputs": [
    {
     "data": {
      "text/plain": [
       "<matplotlib.axes._subplots.AxesSubplot at 0x7fde45b56c50>"
      ]
     },
     "execution_count": 20,
     "metadata": {},
     "output_type": "execute_result"
    },
    {
     "data": {
      "image/png": "[encoded data removed]",
      "text/plain": [
       "<matplotlib.figure.Figure at 0x7fde44da8350>"
      ]
     },
     "metadata": {},
     "output_type": "display_data"
    }
   ],
   "source": [
    "pro2017.plot(kind='bar',figsize=(15,8), title = 'Variacion 2017', grid =True, xticks=l)"
   ]
  },
  {
   "cell_type": "markdown",
   "metadata": {},
   "source": [
    "# Ahora graficamos todos juntos"
   ]
  },
  {
   "cell_type": "code",
   "execution_count": 21,
   "metadata": {
    "collapsed": true
   },
   "outputs": [],
   "source": [
    "promC2013 = pro2013['casas'].mean()\n",
    "promC2014 = pro2014['casas'].mean()\n",
    "promC2015 = pro2015['casas'].mean()\n",
    "promC2016 = pro2016['casas'].mean()\n",
    "promC2017 = pro2017['casas'].mean()"
   ]
  },
  {
   "cell_type": "code",
   "execution_count": 22,
   "metadata": {
    "collapsed": true
   },
   "outputs": [],
   "source": [
    "promD2013 = pro2013['deptos'].mean()\n",
    "promD2014 = pro2014['deptos'].mean()\n",
    "promD2015 = pro2015['deptos'].mean()\n",
    "promD2016 = pro2016['deptos'].mean()\n",
    "promD2017 = pro2017['deptos'].mean()"
   ]
  },
  {
   "cell_type": "code",
   "execution_count": 23,
   "metadata": {
    "collapsed": true
   },
   "outputs": [],
   "source": [
    "promP2013 = pro2013['ph'].mean()\n",
    "promP2014 = pro2014['ph'].mean()\n",
    "promP2015 = pro2015['ph'].mean()\n",
    "promP2016 = pro2016['ph'].mean()\n",
    "promP2017 = pro2017['ph'].mean()"
   ]
  },
  {
   "cell_type": "code",
   "execution_count": 24,
   "metadata": {},
   "outputs": [
    {
     "data": {
      "text/html": [
       "<div>\n",
       "<style>\n",
       "    .dataframe thead tr:only-child th {\n",
       "        text-align: right;\n",
       "    }\n",
       "\n",
       "    .dataframe thead th {\n",
       "        text-align: left;\n",
       "    }\n",
       "\n",
       "    .dataframe tbody tr th {\n",
       "        vertical-align: top;\n",
       "    }\n",
       "</style>\n",
       "<table border=\"1\" class=\"dataframe\">\n",
       "  <thead>\n",
       "    <tr style=\"text-align: right;\">\n",
       "      <th></th>\n",
       "      <th>casas</th>\n",
       "      <th>deptos</th>\n",
       "      <th>ph</th>\n",
       "    </tr>\n",
       "  </thead>\n",
       "  <tbody>\n",
       "    <tr>\n",
       "      <th>2013</th>\n",
       "      <td>198803.017241</td>\n",
       "      <td>100116.578400</td>\n",
       "      <td>91963.235294</td>\n",
       "    </tr>\n",
       "    <tr>\n",
       "      <th>2014</th>\n",
       "      <td>214294.815244</td>\n",
       "      <td>193226.553848</td>\n",
       "      <td>118129.961788</td>\n",
       "    </tr>\n",
       "    <tr>\n",
       "      <th>2015</th>\n",
       "      <td>363635.744142</td>\n",
       "      <td>192114.342696</td>\n",
       "      <td>122860.043929</td>\n",
       "    </tr>\n",
       "    <tr>\n",
       "      <th>2016</th>\n",
       "      <td>385971.043542</td>\n",
       "      <td>215366.433777</td>\n",
       "      <td>161741.621517</td>\n",
       "    </tr>\n",
       "    <tr>\n",
       "      <th>2017</th>\n",
       "      <td>379190.403288</td>\n",
       "      <td>233817.077840</td>\n",
       "      <td>155992.121581</td>\n",
       "    </tr>\n",
       "  </tbody>\n",
       "</table>\n",
       "</div>"
      ],
      "text/plain": [
       "              casas         deptos             ph\n",
       "2013  198803.017241  100116.578400   91963.235294\n",
       "2014  214294.815244  193226.553848  118129.961788\n",
       "2015  363635.744142  192114.342696  122860.043929\n",
       "2016  385971.043542  215366.433777  161741.621517\n",
       "2017  379190.403288  233817.077840  155992.121581"
      ]
     },
     "execution_count": 24,
     "metadata": {},
     "output_type": "execute_result"
    }
   ],
   "source": [
    "dic = {'casas' : [promC2013,promC2014,promC2015,promC2016,promC2017], \n",
    "       'deptos': [promD2013,promD2014,promD2015,promD2016,promD2017],\n",
    "      'ph' : [promP2013,promP2014,promP2015,promP2016,promP2017]}\n",
    "\n",
    "promedio = pd.DataFrame(dic)\n",
    "promedio.rename(index={0:'2013',1:'2014',2:'2015',3:'2016',4:'2017'},inplace=True)\n",
    "promedio.head(10)"
   ]
  },
  {
   "cell_type": "code",
   "execution_count": 29,
   "metadata": {},
   "outputs": [
    {
     "data": {
      "image/png": "[encoded data removed]",
      "text/plain": [
       "<matplotlib.figure.Figure at 0x7fde47084650>"
      ]
     },
     "metadata": {},
     "output_type": "display_data"
    }
   ],
   "source": [
    "ax = promedio.plot(kind='bar',figsize=(15,8),xticks=l,\\\n",
    "                  title = 'Variacion por Tipo de Propiedad 2013-2017',linewidth=2,)\n",
    "ax.set_ylabel('Precio en USD')\n",
    "ax.set_xlabel('Meses')\n",
    "ax.set_ylim([0, 400000])\n",
    "plt.show()\n"
   ]
  },
  {
   "cell_type": "code",
   "execution_count": null,
   "metadata": {
    "collapsed": true
   },
   "outputs": [],
   "source": []
  }
 ],
 "metadata": {
  "kernelspec": {
   "display_name": "Python 2",
   "language": "python",
   "name": "python2"
  },
  "language_info": {
   "codemirror_mode": {
    "name": "ipython",
    "version": 2
   },
   "file_extension": ".py",
   "mimetype": "text/x-python",
   "name": "python",
   "nbconvert_exporter": "python",
   "pygments_lexer": "ipython2",
   "version": "2.7.13"
  }
 },
 "nbformat": 4,
 "nbformat_minor": 2
}
