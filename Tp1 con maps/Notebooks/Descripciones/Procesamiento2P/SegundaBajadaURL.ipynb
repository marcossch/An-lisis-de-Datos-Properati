{
 "cells": [
  {
   "cell_type": "code",
   "execution_count": 1,
   "metadata": {
    "collapsed": true
   },
   "outputs": [],
   "source": [
    "import pandas as pd\n",
    "import numpy as np\n",
    "import matplotlib.pyplot as plt\n",
    "\n",
    "import sys\n",
    "import cPickle as pickle\n",
    "import html5lib\n",
    "import os\n",
    "import ipyparallel as ipp\n",
    "\n",
    "from bs4 import BeautifulSoup as bs\n",
    "from urllib2 import urlopen\n",
    "from urllib2 import Request\n",
    "from urllib2 import URLError\n",
    "\n",
    "reload(sys)\n",
    "sys.setdefaultencoding('utf-8')\n",
    "sys.setrecursionlimit(50000)\n",
    "\n",
    "%matplotlib inline"
   ]
  },
  {
   "cell_type": "code",
   "execution_count": 2,
   "metadata": {
    "collapsed": true
   },
   "outputs": [],
   "source": [
    "#Corremos el cluster\n",
    "rc = ipp.Client()\n",
    "ar = rc[:].apply_async(os.getpid)\n",
    "pid_map = ar.get_dict()"
   ]
  },
  {
   "cell_type": "markdown",
   "metadata": {},
   "source": [
    "# Cargamos los datos de las propiedades"
   ]
  },
  {
   "cell_type": "code",
   "execution_count": 3,
   "metadata": {
    "collapsed": true
   },
   "outputs": [],
   "source": [
    "data = pickle.load(open(\"../../../../datos/DataFrame.p\",\"rb\"))"
   ]
  },
  {
   "cell_type": "markdown",
   "metadata": {},
   "source": [
    "# Vamos a hacer un analisis para ver que criterio tomo para bajar un par de datos mas"
   ]
  },
  {
   "cell_type": "code",
   "execution_count": 5,
   "metadata": {},
   "outputs": [
    {
     "data": {
      "text/plain": [
       "'\\nrooms               61200\\nambientes           49081\\nbanios              13639\\nwebp                20196\\n'"
      ]
     },
     "execution_count": 5,
     "metadata": {},
     "output_type": "execute_result"
    }
   ],
   "source": [
    "data.info()\n",
    "\n",
    "\"\"\"\n",
    "rooms               61200\n",
    "ambientes           49081\n",
    "banios              13639\n",
    "webp                20196\n",
    "\"\"\""
   ]
  },
  {
   "cell_type": "markdown",
   "metadata": {},
   "source": [
    "Los que menos tienen son ambientes y banios, voy a ver cuantos features no tienen ninguno de los 2"
   ]
  },
  {
   "cell_type": "code",
   "execution_count": 6,
   "metadata": {
    "collapsed": true
   },
   "outputs": [],
   "source": [
    "parc = data[pd.isnull(data['ambientes']) == True]\n",
    "parc = parc[pd.isnull(parc['banios']) == True]\n",
    "parc = parc[pd.isnull(parc['webp']) == True]"
   ]
  },
  {
   "cell_type": "code",
   "execution_count": 7,
   "metadata": {
    "collapsed": true
   },
   "outputs": [],
   "source": [
    "parc.info() #Tenemos 23000 masomenos"
   ]
  },
  {
   "cell_type": "markdown",
   "metadata": {},
   "source": [
    "Pruebo ahora con los que no tienen banios ni cuartos"
   ]
  },
  {
   "cell_type": "code",
   "execution_count": 8,
   "metadata": {
    "collapsed": true
   },
   "outputs": [],
   "source": [
    "parc1 = data[pd.isnull(data['rooms']) == True]\n",
    "parc1 = parc1[pd.isnull(parc1['banios']) == True]\n",
    "parc1 = parc1[pd.isnull(parc1['webp']) == True]"
   ]
  },
  {
   "cell_type": "code",
   "execution_count": 9,
   "metadata": {
    "collapsed": true
   },
   "outputs": [],
   "source": [
    "parc1.info()"
   ]
  },
  {
   "cell_type": "markdown",
   "metadata": {},
   "source": [
    "# Voy a bajar los que no tienen ni ambientes ni banios, o cuartos ni banios"
   ]
  },
  {
   "cell_type": "code",
   "execution_count": 19,
   "metadata": {},
   "outputs": [
    {
     "data": {
      "text/html": [
       "<div>\n",
       "<style>\n",
       "    .dataframe thead tr:only-child th {\n",
       "        text-align: right;\n",
       "    }\n",
       "\n",
       "    .dataframe thead th {\n",
       "        text-align: left;\n",
       "    }\n",
       "\n",
       "    .dataframe tbody tr th {\n",
       "        vertical-align: top;\n",
       "    }\n",
       "</style>\n",
       "<table border=\"1\" class=\"dataframe\">\n",
       "  <thead>\n",
       "    <tr style=\"text-align: right;\">\n",
       "      <th></th>\n",
       "      <th>id</th>\n",
       "      <th>created_on</th>\n",
       "      <th>operation</th>\n",
       "      <th>property_type</th>\n",
       "      <th>place_name</th>\n",
       "      <th>place_with_parent_names</th>\n",
       "      <th>country_name</th>\n",
       "      <th>state_name</th>\n",
       "      <th>geonames_id</th>\n",
       "      <th>lat-lon</th>\n",
       "      <th>...</th>\n",
       "      <th>expenses</th>\n",
       "      <th>properati_url</th>\n",
       "      <th>description</th>\n",
       "      <th>title</th>\n",
       "      <th>image_thumbnail</th>\n",
       "      <th>latlon</th>\n",
       "      <th>rooms</th>\n",
       "      <th>ambientes</th>\n",
       "      <th>banios</th>\n",
       "      <th>webp</th>\n",
       "    </tr>\n",
       "  </thead>\n",
       "  <tbody>\n",
       "    <tr>\n",
       "      <th>0</th>\n",
       "      <td>c8a66ee9e3da083ab66dacd165e8a5cc718b1cf2</td>\n",
       "      <td>2012-09-19</td>\n",
       "      <td>sell</td>\n",
       "      <td>house</td>\n",
       "      <td>San Antonio De Padua</td>\n",
       "      <td>|Argentina|Bs.As. G.B.A. Zona Oeste|Merlo|San ...</td>\n",
       "      <td>Argentina</td>\n",
       "      <td>Bs.As. G.B.A. Zona Oeste</td>\n",
       "      <td>3429244.0</td>\n",
       "      <td>NaN</td>\n",
       "      <td>...</td>\n",
       "      <td>NaN</td>\n",
       "      <td>http://www.properati.com.ar/udh_venta_casa_mer...</td>\n",
       "      <td>CASA CON LOCAL EN VENTA EN PADUA.2 DORMITORIOS...</td>\n",
       "      <td>CASA EN VENTA</td>\n",
       "      <td>https://thumbs4.properati.com/1/ufoyqwscVk8n3e...</td>\n",
       "      <td>(-34.66692, -58.70097)</td>\n",
       "      <td>NaN</td>\n",
       "      <td>NaN</td>\n",
       "      <td>2.0</td>\n",
       "      <td>&lt;!DOCTYPE html&gt;\\n&lt;!--[if lt IE 7 ]&gt; &lt;html clas...</td>\n",
       "    </tr>\n",
       "    <tr>\n",
       "      <th>1</th>\n",
       "      <td>a205c53378e7879cf7519659317fb410c060d20e</td>\n",
       "      <td>2012-10-22</td>\n",
       "      <td>sell</td>\n",
       "      <td>house</td>\n",
       "      <td>San Antonio De Padua</td>\n",
       "      <td>|Argentina|Bs.As. G.B.A. Zona Oeste|Merlo|San ...</td>\n",
       "      <td>Argentina</td>\n",
       "      <td>Bs.As. G.B.A. Zona Oeste</td>\n",
       "      <td>3429244.0</td>\n",
       "      <td>NaN</td>\n",
       "      <td>...</td>\n",
       "      <td>NaN</td>\n",
       "      <td>http://www.properati.com.ar/20hi_venta_casa_me...</td>\n",
       "      <td>CHALET VENTA 4 AMBIENTES PADUA.EXCELENTE CHALE...</td>\n",
       "      <td>CASA EN VENTA</td>\n",
       "      <td>https://thumbs4.properati.com/5/I5RS_jAIUseo9H...</td>\n",
       "      <td>(-34.66692, -58.70097)</td>\n",
       "      <td>3.0</td>\n",
       "      <td>4.0</td>\n",
       "      <td>NaN</td>\n",
       "      <td>None</td>\n",
       "    </tr>\n",
       "    <tr>\n",
       "      <th>2</th>\n",
       "      <td>9446052c949050359fb08b9f1ba83ba2eaa20c99</td>\n",
       "      <td>2012-12-08</td>\n",
       "      <td>sell</td>\n",
       "      <td>house</td>\n",
       "      <td>Mataderos</td>\n",
       "      <td>|Argentina|Capital Federal|Mataderos|</td>\n",
       "      <td>Argentina</td>\n",
       "      <td>Capital Federal</td>\n",
       "      <td>3430787.0</td>\n",
       "      <td>-34.6544492346,-58.4895603251</td>\n",
       "      <td>...</td>\n",
       "      <td>NaN</td>\n",
       "      <td>http://www.properati.com.ar/4m4m_venta_casa_ma...</td>\n",
       "      <td>Casa Multifamiliar en Mataderos!!! Sobre lote ...</td>\n",
       "      <td>CASA EN VENTA</td>\n",
       "      <td>https://thumbs4.properati.com/6/DsNJjCb5_zIPV0...</td>\n",
       "      <td>(-34.6544492346, -58.4895603251)</td>\n",
       "      <td>5.0</td>\n",
       "      <td>3.0</td>\n",
       "      <td>NaN</td>\n",
       "      <td>None</td>\n",
       "    </tr>\n",
       "    <tr>\n",
       "      <th>3</th>\n",
       "      <td>4d3b492ed5f9c74cdf33b56b98328e5c950e3f9c</td>\n",
       "      <td>2013-01-04</td>\n",
       "      <td>sell</td>\n",
       "      <td>apartment</td>\n",
       "      <td>Pilar</td>\n",
       "      <td>|Argentina|Bs.As. G.B.A. Zona Norte|Pilar|</td>\n",
       "      <td>Argentina</td>\n",
       "      <td>Bs.As. G.B.A. Zona Norte</td>\n",
       "      <td>3429979.0</td>\n",
       "      <td>-34.429071,-58.795418</td>\n",
       "      <td>...</td>\n",
       "      <td>NaN</td>\n",
       "      <td>http://www.properati.com.ar/518a_venta_departa...</td>\n",
       "      <td>Venta - Departamento - Argentina, Buenos Aires...</td>\n",
       "      <td>Departamento en Venta ubicado en Arcos de Pilar</td>\n",
       "      <td>https://thumbs4.properati.com/8/bJn9FqcBRGi_8H...</td>\n",
       "      <td>(-34.429071, -58.795418)</td>\n",
       "      <td>2.0</td>\n",
       "      <td>2.0</td>\n",
       "      <td>NaN</td>\n",
       "      <td>None</td>\n",
       "    </tr>\n",
       "    <tr>\n",
       "      <th>4</th>\n",
       "      <td>61f3789618edabeaa7b5fc06ff36112f8a06557f</td>\n",
       "      <td>2013-01-26</td>\n",
       "      <td>sell</td>\n",
       "      <td>apartment</td>\n",
       "      <td>Pilar</td>\n",
       "      <td>|Argentina|Bs.As. G.B.A. Zona Norte|Pilar|</td>\n",
       "      <td>Argentina</td>\n",
       "      <td>Bs.As. G.B.A. Zona Norte</td>\n",
       "      <td>3429979.0</td>\n",
       "      <td>-34.439241,-58.798589</td>\n",
       "      <td>...</td>\n",
       "      <td>NaN</td>\n",
       "      <td>http://www.properati.com.ar/59ec_venta_departa...</td>\n",
       "      <td>Venta - Departamento - Argentina, Buenos Aires...</td>\n",
       "      <td>Departamento en Venta ubicado en Pilar</td>\n",
       "      <td>https://thumbs4.properati.com/5/hiXoFGFHBiIhV2...</td>\n",
       "      <td>(-34.439241, -58.798589)</td>\n",
       "      <td>2.0</td>\n",
       "      <td>NaN</td>\n",
       "      <td>NaN</td>\n",
       "      <td>None</td>\n",
       "    </tr>\n",
       "  </tbody>\n",
       "</table>\n",
       "<p>5 rows × 31 columns</p>\n",
       "</div>"
      ],
      "text/plain": [
       "                                         id  created_on operation  \\\n",
       "0  c8a66ee9e3da083ab66dacd165e8a5cc718b1cf2  2012-09-19      sell   \n",
       "1  a205c53378e7879cf7519659317fb410c060d20e  2012-10-22      sell   \n",
       "2  9446052c949050359fb08b9f1ba83ba2eaa20c99  2012-12-08      sell   \n",
       "3  4d3b492ed5f9c74cdf33b56b98328e5c950e3f9c  2013-01-04      sell   \n",
       "4  61f3789618edabeaa7b5fc06ff36112f8a06557f  2013-01-26      sell   \n",
       "\n",
       "  property_type            place_name  \\\n",
       "0         house  San Antonio De Padua   \n",
       "1         house  San Antonio De Padua   \n",
       "2         house             Mataderos   \n",
       "3     apartment                 Pilar   \n",
       "4     apartment                 Pilar   \n",
       "\n",
       "                             place_with_parent_names country_name  \\\n",
       "0  |Argentina|Bs.As. G.B.A. Zona Oeste|Merlo|San ...    Argentina   \n",
       "1  |Argentina|Bs.As. G.B.A. Zona Oeste|Merlo|San ...    Argentina   \n",
       "2              |Argentina|Capital Federal|Mataderos|    Argentina   \n",
       "3         |Argentina|Bs.As. G.B.A. Zona Norte|Pilar|    Argentina   \n",
       "4         |Argentina|Bs.As. G.B.A. Zona Norte|Pilar|    Argentina   \n",
       "\n",
       "                 state_name  geonames_id                        lat-lon  \\\n",
       "0  Bs.As. G.B.A. Zona Oeste    3429244.0                            NaN   \n",
       "1  Bs.As. G.B.A. Zona Oeste    3429244.0                            NaN   \n",
       "2           Capital Federal    3430787.0  -34.6544492346,-58.4895603251   \n",
       "3  Bs.As. G.B.A. Zona Norte    3429979.0          -34.429071,-58.795418   \n",
       "4  Bs.As. G.B.A. Zona Norte    3429979.0          -34.439241,-58.798589   \n",
       "\n",
       "                         ...                          expenses  \\\n",
       "0                        ...                               NaN   \n",
       "1                        ...                               NaN   \n",
       "2                        ...                               NaN   \n",
       "3                        ...                               NaN   \n",
       "4                        ...                               NaN   \n",
       "\n",
       "                                       properati_url  \\\n",
       "0  http://www.properati.com.ar/udh_venta_casa_mer...   \n",
       "1  http://www.properati.com.ar/20hi_venta_casa_me...   \n",
       "2  http://www.properati.com.ar/4m4m_venta_casa_ma...   \n",
       "3  http://www.properati.com.ar/518a_venta_departa...   \n",
       "4  http://www.properati.com.ar/59ec_venta_departa...   \n",
       "\n",
       "                                         description  \\\n",
       "0  CASA CON LOCAL EN VENTA EN PADUA.2 DORMITORIOS...   \n",
       "1  CHALET VENTA 4 AMBIENTES PADUA.EXCELENTE CHALE...   \n",
       "2  Casa Multifamiliar en Mataderos!!! Sobre lote ...   \n",
       "3  Venta - Departamento - Argentina, Buenos Aires...   \n",
       "4  Venta - Departamento - Argentina, Buenos Aires...   \n",
       "\n",
       "                                             title  \\\n",
       "0                                    CASA EN VENTA   \n",
       "1                                    CASA EN VENTA   \n",
       "2                                    CASA EN VENTA   \n",
       "3  Departamento en Venta ubicado en Arcos de Pilar   \n",
       "4           Departamento en Venta ubicado en Pilar   \n",
       "\n",
       "                                     image_thumbnail  \\\n",
       "0  https://thumbs4.properati.com/1/ufoyqwscVk8n3e...   \n",
       "1  https://thumbs4.properati.com/5/I5RS_jAIUseo9H...   \n",
       "2  https://thumbs4.properati.com/6/DsNJjCb5_zIPV0...   \n",
       "3  https://thumbs4.properati.com/8/bJn9FqcBRGi_8H...   \n",
       "4  https://thumbs4.properati.com/5/hiXoFGFHBiIhV2...   \n",
       "\n",
       "                             latlon  rooms  ambientes  banios  \\\n",
       "0            (-34.66692, -58.70097)    NaN        NaN     2.0   \n",
       "1            (-34.66692, -58.70097)    3.0        4.0     NaN   \n",
       "2  (-34.6544492346, -58.4895603251)    5.0        3.0     NaN   \n",
       "3          (-34.429071, -58.795418)    2.0        2.0     NaN   \n",
       "4          (-34.439241, -58.798589)    2.0        NaN     NaN   \n",
       "\n",
       "                                                webp  \n",
       "0  <!DOCTYPE html>\\n<!--[if lt IE 7 ]> <html clas...  \n",
       "1                                               None  \n",
       "2                                               None  \n",
       "3                                               None  \n",
       "4                                               None  \n",
       "\n",
       "[5 rows x 31 columns]"
      ]
     },
     "execution_count": 19,
     "metadata": {},
     "output_type": "execute_result"
    }
   ],
   "source": [
    "data.head(5)"
   ]
  },
  {
   "cell_type": "code",
   "execution_count": 4,
   "metadata": {
    "collapsed": true
   },
   "outputs": [],
   "source": [
    "dataR = data[['id','properati_url','rooms','ambientes','banios','webp']]"
   ]
  },
  {
   "cell_type": "code",
   "execution_count": 5,
   "metadata": {
    "collapsed": true
   },
   "outputs": [],
   "source": [
    "dataR = dataR[5000:10000]"
   ]
  },
  {
   "cell_type": "code",
   "execution_count": 6,
   "metadata": {
    "collapsed": true
   },
   "outputs": [],
   "source": [
    "#data.head(5)"
   ]
  },
  {
   "cell_type": "code",
   "execution_count": 7,
   "metadata": {
    "collapsed": true
   },
   "outputs": [],
   "source": [
    "#data.info()"
   ]
  },
  {
   "cell_type": "code",
   "execution_count": 9,
   "metadata": {
    "collapsed": true
   },
   "outputs": [],
   "source": [
    "def chequearURL(x):\n",
    "    \n",
    "    if( pd.isnull(x[1]) ): return None\n",
    "    if( pd.isnull(x[2]) and pd.isnull(x[4]) ): return buscarURL(x[1])\n",
    "    if( pd.isnull(x[3]) and pd.isnull(x[4]) ): return buscarURL(x[1])\n",
    "    \n",
    "    return None\n",
    "        \n",
    "def buscarURL(x):\n",
    "    \n",
    "    req = Request(x)\n",
    "    try:\n",
    "        resp = urlopen(req, timeout=10)\n",
    "    except URLError:\n",
    "        print(\"Bad URL or timeout\\n\")\n",
    "        return None\n",
    "    except requests.ConnectionError as e:\n",
    "        print(\"conexion perdida\\n\")\n",
    "        return None\n",
    "    except requests.Timeout as e:\n",
    "        print(\"Timeout Error\\n\")\n",
    "        return None\n",
    "    except requests.RequestException as e:\n",
    "        print(\"General Error\\n\")\n",
    "        return None\n",
    "    except KeyboardInterrupt:\n",
    "        print(\"Someone closed the program\\n\")\n",
    "\n",
    "    resp_page = resp.read()\n",
    "    \n",
    "    return resp_page"
   ]
  },
  {
   "cell_type": "code",
   "execution_count": null,
   "metadata": {
    "collapsed": true
   },
   "outputs": [],
   "source": [
    "dataR['webp'] = dataR.apply(chequearURL, axis=1)"
   ]
  },
  {
   "cell_type": "code",
   "execution_count": null,
   "metadata": {
    "collapsed": true
   },
   "outputs": [],
   "source": [
    "pickle.dump(dataR,open(\"save2.p\",\"wb\"))"
   ]
  }
 ],
 "metadata": {
  "kernelspec": {
   "display_name": "Python 2",
   "language": "python",
   "name": "python2"
  },
  "language_info": {
   "codemirror_mode": {
    "name": "ipython",
    "version": 2
   },
   "file_extension": ".py",
   "mimetype": "text/x-python",
   "name": "python",
   "nbconvert_exporter": "python",
   "pygments_lexer": "ipython2",
   "version": "2.7.13"
  }
 },
 "nbformat": 4,
 "nbformat_minor": 2
}
