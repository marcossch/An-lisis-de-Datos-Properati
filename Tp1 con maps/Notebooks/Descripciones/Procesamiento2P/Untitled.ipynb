{
 "cells": [
  {
   "cell_type": "code",
   "execution_count": 1,
   "metadata": {
    "collapsed": true
   },
   "outputs": [],
   "source": [
    "import pandas as pd\n",
    "import numpy as np\n",
    "import matplotlib.pyplot as plt\n",
    "import cPickle as pickle"
   ]
  },
  {
   "cell_type": "code",
   "execution_count": 2,
   "metadata": {
    "collapsed": true
   },
   "outputs": [],
   "source": [
    "realData = pickle.load(open(\"../../../../datos/Data.p\",\"rb\"))"
   ]
  },
  {
   "cell_type": "code",
   "execution_count": 3,
   "metadata": {},
   "outputs": [],
   "source": [
    "realData = realData[['id','created_on','operation','property_type','place_name','place_with_parent_names',\n",
    "                     'country_name','state_name','geonames_id','lat-lon','lat','lon','price','currency',\n",
    "                     'price_aprox_local_currency','price_aprox_usd','surface_total_in_m2','surface_covered_in_m2',\n",
    "                     'price_usd_per_m2','price_per_m2','floor','expenses','properati_url','description',\n",
    "                     'title','image_thumbnail','latlon','Cant_ColeYUniv','Cant_EspaciosVerdes',\n",
    "                     'Cant_LocalesGastronomicos','Cant_ParadasTransporte','Cant_LugaresTuristicos','rooms',\n",
    "                    'ambientes','banios']]"
   ]
  },
  {
   "cell_type": "code",
   "execution_count": 4,
   "metadata": {
    "collapsed": true
   },
   "outputs": [],
   "source": [
    "pickle.dump(realData,open(\"../../../../datos/Data.p\",\"wb\"))"
   ]
  }
 ],
 "metadata": {
  "kernelspec": {
   "display_name": "Python 2",
   "language": "python",
   "name": "python2"
  },
  "language_info": {
   "codemirror_mode": {
    "name": "ipython",
    "version": 2
   },
   "file_extension": ".py",
   "mimetype": "text/x-python",
   "name": "python",
   "nbconvert_exporter": "python",
   "pygments_lexer": "ipython2",
   "version": "2.7.13"
  }
 },
 "nbformat": 4,
 "nbformat_minor": 2
}
