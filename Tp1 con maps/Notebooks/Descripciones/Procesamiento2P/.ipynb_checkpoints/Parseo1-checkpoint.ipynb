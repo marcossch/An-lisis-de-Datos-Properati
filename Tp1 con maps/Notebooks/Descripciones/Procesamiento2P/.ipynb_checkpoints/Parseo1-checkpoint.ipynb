{
 "cells": [
  {
   "cell_type": "code",
   "execution_count": 1,
   "metadata": {
    "collapsed": true
   },
   "outputs": [],
   "source": [
    "import pandas as pd\n",
    "import numpy as np\n",
    "import matplotlib.pyplot as plt\n",
    "\n",
    "import sys\n",
    "import cPickle as pickle\n",
    "import html5lib\n",
    "import os\n",
    "import ipyparallel as ipp\n",
    "\n",
    "from bs4 import BeautifulSoup as bs\n",
    "from urllib2 import urlopen\n",
    "from urllib2 import Request\n",
    "from urllib2 import URLError\n",
    "\n",
    "reload(sys)\n",
    "sys.setdefaultencoding('utf-8')\n",
    "sys.setrecursionlimit(50000)\n",
    "\n",
    "%matplotlib inline"
   ]
  },
  {
   "cell_type": "markdown",
   "metadata": {},
   "source": [
    "# Primero abrimos el archivo pickle"
   ]
  },
  {
   "cell_type": "code",
   "execution_count": 3,
   "metadata": {},
   "outputs": [],
   "source": [
    "caracteristicas = pickle.load(open(\"../../../../datos/Data.p\",\"rb\"))"
   ]
  },
  {
   "cell_type": "code",
   "execution_count": 4,
   "metadata": {},
   "outputs": [
    {
     "data": {
      "text/html": [
       "<div>\n",
       "<style>\n",
       "    .dataframe thead tr:only-child th {\n",
       "        text-align: right;\n",
       "    }\n",
       "\n",
       "    .dataframe thead th {\n",
       "        text-align: left;\n",
       "    }\n",
       "\n",
       "    .dataframe tbody tr th {\n",
       "        vertical-align: top;\n",
       "    }\n",
       "</style>\n",
       "<table border=\"1\" class=\"dataframe\">\n",
       "  <thead>\n",
       "    <tr style=\"text-align: right;\">\n",
       "      <th></th>\n",
       "      <th>id</th>\n",
       "      <th>properati_url</th>\n",
       "      <th>rooms</th>\n",
       "      <th>ambientes</th>\n",
       "      <th>banios</th>\n",
       "      <th>webp</th>\n",
       "    </tr>\n",
       "  </thead>\n",
       "  <tbody>\n",
       "    <tr>\n",
       "      <th>0</th>\n",
       "      <td>c8a66ee9e3da083ab66dacd165e8a5cc718b1cf2</td>\n",
       "      <td>http://www.properati.com.ar/udh_venta_casa_mer...</td>\n",
       "      <td>NaN</td>\n",
       "      <td>NaN</td>\n",
       "      <td>2.0</td>\n",
       "      <td>None</td>\n",
       "    </tr>\n",
       "    <tr>\n",
       "      <th>1</th>\n",
       "      <td>a205c53378e7879cf7519659317fb410c060d20e</td>\n",
       "      <td>http://www.properati.com.ar/20hi_venta_casa_me...</td>\n",
       "      <td>3.0</td>\n",
       "      <td>4.0</td>\n",
       "      <td>NaN</td>\n",
       "      <td>None</td>\n",
       "    </tr>\n",
       "    <tr>\n",
       "      <th>2</th>\n",
       "      <td>9446052c949050359fb08b9f1ba83ba2eaa20c99</td>\n",
       "      <td>http://www.properati.com.ar/4m4m_venta_casa_ma...</td>\n",
       "      <td>5.0</td>\n",
       "      <td>3.0</td>\n",
       "      <td>NaN</td>\n",
       "      <td>None</td>\n",
       "    </tr>\n",
       "  </tbody>\n",
       "</table>\n",
       "</div>"
      ],
      "text/plain": [
       "                                         id  \\\n",
       "0  c8a66ee9e3da083ab66dacd165e8a5cc718b1cf2   \n",
       "1  a205c53378e7879cf7519659317fb410c060d20e   \n",
       "2  9446052c949050359fb08b9f1ba83ba2eaa20c99   \n",
       "\n",
       "                                       properati_url  rooms  ambientes  \\\n",
       "0  http://www.properati.com.ar/udh_venta_casa_mer...    NaN        NaN   \n",
       "1  http://www.properati.com.ar/20hi_venta_casa_me...    3.0        4.0   \n",
       "2  http://www.properati.com.ar/4m4m_venta_casa_ma...    5.0        3.0   \n",
       "\n",
       "   banios  webp  \n",
       "0     2.0  None  \n",
       "1     NaN  None  \n",
       "2     NaN  None  "
      ]
     },
     "execution_count": 4,
     "metadata": {},
     "output_type": "execute_result"
    }
   ],
   "source": [
    "caracteristicas.head(3)"
   ]
  },
  {
   "cell_type": "code",
   "execution_count": 5,
   "metadata": {
    "collapsed": true
   },
   "outputs": [],
   "source": [
    "caracteristicas.info()\n",
    "#Inicialmente tenemos Rooms = 61200"
   ]
  },
  {
   "cell_type": "markdown",
   "metadata": {},
   "source": [
    "# Vamos a rellenar los cuartos con las paginas"
   ]
  },
  {
   "cell_type": "code",
   "execution_count": 7,
   "metadata": {
    "collapsed": true
   },
   "outputs": [],
   "source": [
    "def chequearCuartosD(x):\n",
    "    if(not pd.isnull(x[2])): return x[2]\n",
    "    if(not pd.isnull(x[5])):\n",
    "        \n",
    "        cant = buscarCuartosD(x[5],'Dorm',9,6)\n",
    "        if( cant != None ): return cant\n",
    "        \n",
    "        cant = buscarCuartosD(x[5],'dorm',9,8)\n",
    "        if( cant != None ): return cant\n",
    "        \n",
    "        cant = buscarCuartosD(x[5],'Hab',9,8)\n",
    "        if( cant != None ): return cant\n",
    "        \n",
    "        cant = buscarCuartosD(x[5],'hab',9,8)\n",
    "        if( cant != None ): return cant\n",
    "        \n",
    "    return None\n",
    "\n",
    "def buscarCuartosD(x,string,largo,fin):\n",
    "    \n",
    "    index = x.find(string)\n",
    "    cant = x[index+largo:index+largo+fin]\n",
    "    \n",
    "    total = ''\n",
    "    for x in cant:\n",
    "        if(x.isdigit()):\n",
    "            total+=x\n",
    "    if(total == ''): return None\n",
    "    return int(total)"
   ]
  },
  {
   "cell_type": "code",
   "execution_count": 8,
   "metadata": {
    "collapsed": true
   },
   "outputs": [],
   "source": [
    "caracteristicas['rooms'] = caracteristicas.apply(chequearCuartosD, axis=1)"
   ]
  },
  {
   "cell_type": "code",
   "execution_count": 9,
   "metadata": {},
   "outputs": [
    {
     "data": {
      "text/html": [
       "<div>\n",
       "<style>\n",
       "    .dataframe thead tr:only-child th {\n",
       "        text-align: right;\n",
       "    }\n",
       "\n",
       "    .dataframe thead th {\n",
       "        text-align: left;\n",
       "    }\n",
       "\n",
       "    .dataframe tbody tr th {\n",
       "        vertical-align: top;\n",
       "    }\n",
       "</style>\n",
       "<table border=\"1\" class=\"dataframe\">\n",
       "  <thead>\n",
       "    <tr style=\"text-align: right;\">\n",
       "      <th></th>\n",
       "      <th>id</th>\n",
       "      <th>properati_url</th>\n",
       "      <th>rooms</th>\n",
       "      <th>ambientes</th>\n",
       "      <th>banios</th>\n",
       "      <th>webp</th>\n",
       "    </tr>\n",
       "  </thead>\n",
       "  <tbody>\n",
       "    <tr>\n",
       "      <th>0</th>\n",
       "      <td>c8a66ee9e3da083ab66dacd165e8a5cc718b1cf2</td>\n",
       "      <td>http://www.properati.com.ar/udh_venta_casa_mer...</td>\n",
       "      <td>NaN</td>\n",
       "      <td>NaN</td>\n",
       "      <td>2.0</td>\n",
       "      <td>None</td>\n",
       "    </tr>\n",
       "    <tr>\n",
       "      <th>1</th>\n",
       "      <td>a205c53378e7879cf7519659317fb410c060d20e</td>\n",
       "      <td>http://www.properati.com.ar/20hi_venta_casa_me...</td>\n",
       "      <td>3.0</td>\n",
       "      <td>4.0</td>\n",
       "      <td>NaN</td>\n",
       "      <td>None</td>\n",
       "    </tr>\n",
       "    <tr>\n",
       "      <th>2</th>\n",
       "      <td>9446052c949050359fb08b9f1ba83ba2eaa20c99</td>\n",
       "      <td>http://www.properati.com.ar/4m4m_venta_casa_ma...</td>\n",
       "      <td>5.0</td>\n",
       "      <td>3.0</td>\n",
       "      <td>NaN</td>\n",
       "      <td>None</td>\n",
       "    </tr>\n",
       "  </tbody>\n",
       "</table>\n",
       "</div>"
      ],
      "text/plain": [
       "                                         id  \\\n",
       "0  c8a66ee9e3da083ab66dacd165e8a5cc718b1cf2   \n",
       "1  a205c53378e7879cf7519659317fb410c060d20e   \n",
       "2  9446052c949050359fb08b9f1ba83ba2eaa20c99   \n",
       "\n",
       "                                       properati_url  rooms  ambientes  \\\n",
       "0  http://www.properati.com.ar/udh_venta_casa_mer...    NaN        NaN   \n",
       "1  http://www.properati.com.ar/20hi_venta_casa_me...    3.0        4.0   \n",
       "2  http://www.properati.com.ar/4m4m_venta_casa_ma...    5.0        3.0   \n",
       "\n",
       "   banios  webp  \n",
       "0     2.0  None  \n",
       "1     NaN  None  \n",
       "2     NaN  None  "
      ]
     },
     "execution_count": 9,
     "metadata": {},
     "output_type": "execute_result"
    }
   ],
   "source": [
    "caracteristicas.head(3)"
   ]
  },
  {
   "cell_type": "code",
   "execution_count": 10,
   "metadata": {
    "collapsed": true
   },
   "outputs": [],
   "source": [
    "caracteristicas.info()"
   ]
  },
  {
   "cell_type": "code",
   "execution_count": 11,
   "metadata": {
    "collapsed": true
   },
   "outputs": [],
   "source": [
    "pickle.dump(caracteristicas,open(\"../../../../datos/Data.p\",\"wb\"))"
   ]
  },
  {
   "cell_type": "code",
   "execution_count": 12,
   "metadata": {
    "collapsed": true
   },
   "outputs": [],
   "source": [
    "a = caracteristicas [pd.isnull(caracteristicas['rooms'])]"
   ]
  },
  {
   "cell_type": "code",
   "execution_count": 13,
   "metadata": {},
   "outputs": [
    {
     "data": {
      "text/plain": [
       "id               27733\n",
       "properati_url    27733\n",
       "rooms                0\n",
       "ambientes        12878\n",
       "banios            5771\n",
       "webp             21952\n",
       "dtype: int64"
      ]
     },
     "execution_count": 13,
     "metadata": {},
     "output_type": "execute_result"
    }
   ],
   "source": [
    "a.count()"
   ]
  },
  {
   "cell_type": "code",
   "execution_count": 14,
   "metadata": {
    "collapsed": true
   },
   "outputs": [],
   "source": [
    "a = a[pd.isnull(a['webp'])]"
   ]
  },
  {
   "cell_type": "code",
   "execution_count": 15,
   "metadata": {},
   "outputs": [
    {
     "data": {
      "text/plain": [
       "id               5781\n",
       "properati_url    5781\n",
       "rooms               0\n",
       "ambientes         486\n",
       "banios           5771\n",
       "webp                0\n",
       "dtype: int64"
      ]
     },
     "execution_count": 15,
     "metadata": {},
     "output_type": "execute_result"
    }
   ],
   "source": [
    "a.count()"
   ]
  }
 ],
 "metadata": {
  "kernelspec": {
   "display_name": "Python 2",
   "language": "python",
   "name": "python2"
  },
  "language_info": {
   "codemirror_mode": {
    "name": "ipython",
    "version": 2
   },
   "file_extension": ".py",
   "mimetype": "text/x-python",
   "name": "python",
   "nbconvert_exporter": "python",
   "pygments_lexer": "ipython2",
   "version": "2.7.13"
  }
 },
 "nbformat": 4,
 "nbformat_minor": 2
}
