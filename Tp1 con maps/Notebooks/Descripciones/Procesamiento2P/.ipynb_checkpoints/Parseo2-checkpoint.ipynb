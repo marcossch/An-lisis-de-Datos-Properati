{
 "cells": [
  {
   "cell_type": "code",
   "execution_count": 1,
   "metadata": {
    "collapsed": true
   },
   "outputs": [],
   "source": [
    "import pandas as pd\n",
    "import numpy as np\n",
    "import matplotlib.pyplot as plt\n",
    "\n",
    "import sys\n",
    "import cPickle as pickle\n",
    "import html5lib\n",
    "import os\n",
    "import ipyparallel as ipp\n",
    "\n",
    "from bs4 import BeautifulSoup as bs\n",
    "from urllib2 import urlopen\n",
    "from urllib2 import Request\n",
    "from urllib2 import URLError\n",
    "\n",
    "reload(sys)\n",
    "sys.setdefaultencoding('utf-8')\n",
    "sys.setrecursionlimit(50000)\n",
    "\n",
    "%matplotlib inline"
   ]
  },
  {
   "cell_type": "markdown",
   "metadata": {},
   "source": [
    "# Primero abrimos el archivo pickle"
   ]
  },
  {
   "cell_type": "code",
   "execution_count": null,
   "metadata": {
    "collapsed": true
   },
   "outputs": [],
   "source": [
    "caracteristicas = pickle.load(open(\"../../../../datos/Data.p\",\"rb\"))"
   ]
  },
  {
   "cell_type": "code",
   "execution_count": null,
   "metadata": {},
   "outputs": [],
   "source": [
    "caracteristicas.head(3)"
   ]
  },
  {
   "cell_type": "code",
   "execution_count": 5,
   "metadata": {
    "collapsed": true
   },
   "outputs": [],
   "source": [
    "caracteristicas.info()"
   ]
  },
  {
   "cell_type": "markdown",
   "metadata": {},
   "source": [
    "# Vamos a llenar los ambientes con las paginas"
   ]
  },
  {
   "cell_type": "code",
   "execution_count": 9,
   "metadata": {
    "collapsed": true
   },
   "outputs": [],
   "source": [
    "def chequearAmbientesD(x):\n",
    "    if(not pd.isnull(x[5])): return x[5]\n",
    "    if(not pd.isnull(x[6])):\n",
    "        cant = buscarAmbientesD(x[6], 'Amb')\n",
    "        if(cant != None): return cant\n",
    "\n",
    "        cant = buscarAmbientesD(x[6], 'amb')\n",
    "        if(cant != None): return cant\n",
    "\n",
    "    return None\n",
    "\n",
    "def buscarAmbientesD(x,string):\n",
    "    index = x.find(string)\n",
    "    \n",
    "    cant = x[index+9:index+14]\n",
    "    \n",
    "    total = ''\n",
    "    for x in cant:\n",
    "        if(x.isdigit()):\n",
    "            total+=x\n",
    "    if(total == ''): return None\n",
    "    return int(total)"
   ]
  },
  {
   "cell_type": "code",
   "execution_count": 10,
   "metadata": {
    "collapsed": true
   },
   "outputs": [],
   "source": [
    "caracteristicas['ambientes'] = caracteristicas.apply(chequearAmbientesD, axis=1)"
   ]
  },
  {
   "cell_type": "code",
   "execution_count": 11,
   "metadata": {},
   "outputs": [
    {
     "data": {
      "text/html": [
       "<div>\n",
       "<style>\n",
       "    .dataframe thead tr:only-child th {\n",
       "        text-align: right;\n",
       "    }\n",
       "\n",
       "    .dataframe thead th {\n",
       "        text-align: left;\n",
       "    }\n",
       "\n",
       "    .dataframe tbody tr th {\n",
       "        vertical-align: top;\n",
       "    }\n",
       "</style>\n",
       "<table border=\"1\" class=\"dataframe\">\n",
       "  <thead>\n",
       "    <tr style=\"text-align: right;\">\n",
       "      <th></th>\n",
       "      <th>id</th>\n",
       "      <th>description</th>\n",
       "      <th>title</th>\n",
       "      <th>properati_url</th>\n",
       "      <th>rooms</th>\n",
       "      <th>ambientes</th>\n",
       "      <th>webp</th>\n",
       "    </tr>\n",
       "  </thead>\n",
       "  <tbody>\n",
       "    <tr>\n",
       "      <th>0</th>\n",
       "      <td>c8a66ee9e3da083ab66dacd165e8a5cc718b1cf2</td>\n",
       "      <td>CASA CON LOCAL EN VENTA EN PADUA.2 DORMITORIOS...</td>\n",
       "      <td>CASA EN VENTA</td>\n",
       "      <td>http://www.properati.com.ar/udh_venta_casa_mer...</td>\n",
       "      <td>NaN</td>\n",
       "      <td>NaN</td>\n",
       "      <td>&lt;!DOCTYPE html&gt;\\n&lt;!--[if lt IE 7 ]&gt; &lt;html clas...</td>\n",
       "    </tr>\n",
       "    <tr>\n",
       "      <th>1</th>\n",
       "      <td>a205c53378e7879cf7519659317fb410c060d20e</td>\n",
       "      <td>CHALET VENTA 4 AMBIENTES PADUA.EXCELENTE CHALE...</td>\n",
       "      <td>CASA EN VENTA</td>\n",
       "      <td>http://www.properati.com.ar/20hi_venta_casa_me...</td>\n",
       "      <td>3.0</td>\n",
       "      <td>4.0</td>\n",
       "      <td>None</td>\n",
       "    </tr>\n",
       "    <tr>\n",
       "      <th>4</th>\n",
       "      <td>9446052c949050359fb08b9f1ba83ba2eaa20c99</td>\n",
       "      <td>Casa Multifamiliar en Mataderos!!! Sobre lote ...</td>\n",
       "      <td>CASA EN VENTA</td>\n",
       "      <td>http://www.properati.com.ar/4m4m_venta_casa_ma...</td>\n",
       "      <td>5.0</td>\n",
       "      <td>3.0</td>\n",
       "      <td>None</td>\n",
       "    </tr>\n",
       "    <tr>\n",
       "      <th>5</th>\n",
       "      <td>4d3b492ed5f9c74cdf33b56b98328e5c950e3f9c</td>\n",
       "      <td>Venta - Departamento - Argentina, Buenos Aires...</td>\n",
       "      <td>Departamento en Venta ubicado en Arcos de Pilar</td>\n",
       "      <td>http://www.properati.com.ar/518a_venta_departa...</td>\n",
       "      <td>2.0</td>\n",
       "      <td>2.0</td>\n",
       "      <td>None</td>\n",
       "    </tr>\n",
       "    <tr>\n",
       "      <th>6</th>\n",
       "      <td>535441f569473f6e5d687c38b27d9b9c6e69e284</td>\n",
       "      <td>Venta - Local - Argentina, Buenos Aires, Zona ...</td>\n",
       "      <td>Local en Venta ubicado en San Isidro</td>\n",
       "      <td>http://www.properati.com.ar/52p4_venta_local_s...</td>\n",
       "      <td>1.0</td>\n",
       "      <td>NaN</td>\n",
       "      <td>None</td>\n",
       "    </tr>\n",
       "    <tr>\n",
       "      <th>8</th>\n",
       "      <td>27d87ac71e7c00afa9fa7428b943ec263ff68bb4</td>\n",
       "      <td>Venta - Casa - Argentina, Patagonia, San Marti...</td>\n",
       "      <td>Casa en Venta ubicado en Quilquihue</td>\n",
       "      <td>http://www.properati.com.ar/568j_venta_casa_sa...</td>\n",
       "      <td>4.0</td>\n",
       "      <td>NaN</td>\n",
       "      <td>None</td>\n",
       "    </tr>\n",
       "    <tr>\n",
       "      <th>9</th>\n",
       "      <td>df77a06585671e637d2d86f8d22b70d61cfecb18</td>\n",
       "      <td>Venta - Casa - Argentina, Patagonia, San Marti...</td>\n",
       "      <td>Casa en Venta ubicado en Rio Hermoso</td>\n",
       "      <td>http://www.properati.com.ar/568m_venta_casa_sa...</td>\n",
       "      <td>3.0</td>\n",
       "      <td>NaN</td>\n",
       "      <td>None</td>\n",
       "    </tr>\n",
       "    <tr>\n",
       "      <th>10</th>\n",
       "      <td>61f3789618edabeaa7b5fc06ff36112f8a06557f</td>\n",
       "      <td>Venta - Departamento - Argentina, Buenos Aires...</td>\n",
       "      <td>Departamento en Venta ubicado en Pilar</td>\n",
       "      <td>http://www.properati.com.ar/59ec_venta_departa...</td>\n",
       "      <td>2.0</td>\n",
       "      <td>NaN</td>\n",
       "      <td>None</td>\n",
       "    </tr>\n",
       "    <tr>\n",
       "      <th>11</th>\n",
       "      <td>c7ac98ce42a2689a8aee59fb1e91c6b7194c033c</td>\n",
       "      <td>Venta - Casa - Argentina, Patagonia, San Marti...</td>\n",
       "      <td>Casa en Venta ubicado en Centro</td>\n",
       "      <td>http://www.properati.com.ar/5b9n_venta_casa_sa...</td>\n",
       "      <td>4.0</td>\n",
       "      <td>NaN</td>\n",
       "      <td>None</td>\n",
       "    </tr>\n",
       "    <tr>\n",
       "      <th>12</th>\n",
       "      <td>e842ed22eac89b9bffff146377abfd5bceb0b0cd</td>\n",
       "      <td>Venta - Casa - Argentina, Buenos Aires, Zona N...</td>\n",
       "      <td>Casa en Venta ubicado en Benavidez</td>\n",
       "      <td>http://www.properati.com.ar/5paq_venta_casa_be...</td>\n",
       "      <td>6.0</td>\n",
       "      <td>NaN</td>\n",
       "      <td>None</td>\n",
       "    </tr>\n",
       "  </tbody>\n",
       "</table>\n",
       "</div>"
      ],
      "text/plain": [
       "                                          id  \\\n",
       "0   c8a66ee9e3da083ab66dacd165e8a5cc718b1cf2   \n",
       "1   a205c53378e7879cf7519659317fb410c060d20e   \n",
       "4   9446052c949050359fb08b9f1ba83ba2eaa20c99   \n",
       "5   4d3b492ed5f9c74cdf33b56b98328e5c950e3f9c   \n",
       "6   535441f569473f6e5d687c38b27d9b9c6e69e284   \n",
       "8   27d87ac71e7c00afa9fa7428b943ec263ff68bb4   \n",
       "9   df77a06585671e637d2d86f8d22b70d61cfecb18   \n",
       "10  61f3789618edabeaa7b5fc06ff36112f8a06557f   \n",
       "11  c7ac98ce42a2689a8aee59fb1e91c6b7194c033c   \n",
       "12  e842ed22eac89b9bffff146377abfd5bceb0b0cd   \n",
       "\n",
       "                                          description  \\\n",
       "0   CASA CON LOCAL EN VENTA EN PADUA.2 DORMITORIOS...   \n",
       "1   CHALET VENTA 4 AMBIENTES PADUA.EXCELENTE CHALE...   \n",
       "4   Casa Multifamiliar en Mataderos!!! Sobre lote ...   \n",
       "5   Venta - Departamento - Argentina, Buenos Aires...   \n",
       "6   Venta - Local - Argentina, Buenos Aires, Zona ...   \n",
       "8   Venta - Casa - Argentina, Patagonia, San Marti...   \n",
       "9   Venta - Casa - Argentina, Patagonia, San Marti...   \n",
       "10  Venta - Departamento - Argentina, Buenos Aires...   \n",
       "11  Venta - Casa - Argentina, Patagonia, San Marti...   \n",
       "12  Venta - Casa - Argentina, Buenos Aires, Zona N...   \n",
       "\n",
       "                                              title  \\\n",
       "0                                     CASA EN VENTA   \n",
       "1                                     CASA EN VENTA   \n",
       "4                                     CASA EN VENTA   \n",
       "5   Departamento en Venta ubicado en Arcos de Pilar   \n",
       "6              Local en Venta ubicado en San Isidro   \n",
       "8               Casa en Venta ubicado en Quilquihue   \n",
       "9              Casa en Venta ubicado en Rio Hermoso   \n",
       "10           Departamento en Venta ubicado en Pilar   \n",
       "11                  Casa en Venta ubicado en Centro   \n",
       "12               Casa en Venta ubicado en Benavidez   \n",
       "\n",
       "                                        properati_url  rooms  ambientes  \\\n",
       "0   http://www.properati.com.ar/udh_venta_casa_mer...    NaN        NaN   \n",
       "1   http://www.properati.com.ar/20hi_venta_casa_me...    3.0        4.0   \n",
       "4   http://www.properati.com.ar/4m4m_venta_casa_ma...    5.0        3.0   \n",
       "5   http://www.properati.com.ar/518a_venta_departa...    2.0        2.0   \n",
       "6   http://www.properati.com.ar/52p4_venta_local_s...    1.0        NaN   \n",
       "8   http://www.properati.com.ar/568j_venta_casa_sa...    4.0        NaN   \n",
       "9   http://www.properati.com.ar/568m_venta_casa_sa...    3.0        NaN   \n",
       "10  http://www.properati.com.ar/59ec_venta_departa...    2.0        NaN   \n",
       "11  http://www.properati.com.ar/5b9n_venta_casa_sa...    4.0        NaN   \n",
       "12  http://www.properati.com.ar/5paq_venta_casa_be...    6.0        NaN   \n",
       "\n",
       "                                                 webp  \n",
       "0   <!DOCTYPE html>\\n<!--[if lt IE 7 ]> <html clas...  \n",
       "1                                                None  \n",
       "4                                                None  \n",
       "5                                                None  \n",
       "6                                                None  \n",
       "8                                                None  \n",
       "9                                                None  \n",
       "10                                               None  \n",
       "11                                               None  \n",
       "12                                               None  "
      ]
     },
     "execution_count": 11,
     "metadata": {},
     "output_type": "execute_result"
    }
   ],
   "source": [
    "caracteristicas.head(10)"
   ]
  },
  {
   "cell_type": "code",
   "execution_count": 12,
   "metadata": {
    "collapsed": true
   },
   "outputs": [],
   "source": [
    "caracteristicas.info()"
   ]
  },
  {
   "cell_type": "code",
   "execution_count": 13,
   "metadata": {
    "collapsed": true
   },
   "outputs": [],
   "source": [
    "pickle.dump(caracteristicas,open(\"../../../datos/dataframe2.p\",\"wb\"))"
   ]
  }
 ],
 "metadata": {
  "kernelspec": {
   "display_name": "Python 2",
   "language": "python",
   "name": "python2"
  },
  "language_info": {
   "codemirror_mode": {
    "name": "ipython",
    "version": 2
   },
   "file_extension": ".py",
   "mimetype": "text/x-python",
   "name": "python",
   "nbconvert_exporter": "python",
   "pygments_lexer": "ipython2",
   "version": "2.7.13"
  }
 },
 "nbformat": 4,
 "nbformat_minor": 2
}
