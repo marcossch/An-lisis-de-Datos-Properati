{
 "cells": [
  {
   "cell_type": "code",
   "execution_count": 1,
   "metadata": {
    "collapsed": true
   },
   "outputs": [],
   "source": [
    "import pandas as pd\n",
    "import numpy as np\n",
    "import matplotlib.pyplot as plt\n",
    "\n",
    "import sys\n",
    "import cPickle as pickle\n",
    "import html5lib\n",
    "import os\n",
    "import ipyparallel as ipp\n",
    "\n",
    "from bs4 import BeautifulSoup as bs\n",
    "from urllib2 import urlopen\n",
    "from urllib2 import Request\n",
    "from urllib2 import URLError\n",
    "\n",
    "reload(sys)\n",
    "sys.setdefaultencoding('utf-8')\n",
    "sys.setrecursionlimit(50000)\n",
    "\n",
    "%matplotlib inline"
   ]
  },
  {
   "cell_type": "markdown",
   "metadata": {},
   "source": [
    "# Vamos a cargar el archivo concatenado y buscamos en las descripciones baños"
   ]
  },
  {
   "cell_type": "code",
   "execution_count": null,
   "metadata": {
    "collapsed": true
   },
   "outputs": [],
   "source": [
    "data = pickle.load(open(\"../../../../datos/Data.p\",\"rb\"))"
   ]
  },
  {
   "cell_type": "code",
   "execution_count": null,
   "metadata": {
    "collapsed": true
   },
   "outputs": [],
   "source": [
    "data.info()"
   ]
  },
  {
   "cell_type": "code",
   "execution_count": null,
   "metadata": {},
   "outputs": [],
   "source": [
    "data.head(3)"
   ]
  },
  {
   "cell_type": "markdown",
   "metadata": {},
   "source": [
    "# Ahora vamos a buscar baños pero en las paginas que tengamos"
   ]
  },
  {
   "cell_type": "code",
   "execution_count": 11,
   "metadata": {
    "collapsed": true
   },
   "outputs": [],
   "source": [
    "def chequearBaniosD(x):\n",
    "    \n",
    "    if(not pd.isnull(x[7])): return x[7]\n",
    "    if(not pd.isnull(x[6])):\n",
    "        cant = buscarBaniosD(x[6],'Baño')\n",
    "        if(cant != None): return cant\n",
    "        \n",
    "        cant = buscarBaniosD(x[6],'baño')\n",
    "        if(cant != None): return cant\n",
    "        \n",
    "    return None\n",
    "\n",
    "def buscarBaniosD(x,string):\n",
    "    index = x.find(string)\n",
    "    cant = x[index+3:index+10]\n",
    "    \n",
    "    total = ''\n",
    "    for x in cant:\n",
    "        if(x.isdigit()):\n",
    "            total+=x\n",
    "    if(total == ''): return None\n",
    "    return int(total)"
   ]
  },
  {
   "cell_type": "code",
   "execution_count": 12,
   "metadata": {
    "collapsed": true
   },
   "outputs": [],
   "source": [
    "data['banios'] = data.apply(chequearBaniosD, axis=1)"
   ]
  },
  {
   "cell_type": "code",
   "execution_count": 13,
   "metadata": {
    "collapsed": true
   },
   "outputs": [],
   "source": [
    "data.info()"
   ]
  },
  {
   "cell_type": "code",
   "execution_count": 14,
   "metadata": {
    "collapsed": true
   },
   "outputs": [],
   "source": [
    "pickle.dump(data,open(\"../../../dataframe3.p\",\"wb\"))"
   ]
  }
 ],
 "metadata": {
  "kernelspec": {
   "display_name": "Python 2",
   "language": "python",
   "name": "python2"
  },
  "language_info": {
   "codemirror_mode": {
    "name": "ipython",
    "version": 2
   },
   "file_extension": ".py",
   "mimetype": "text/x-python",
   "name": "python",
   "nbconvert_exporter": "python",
   "pygments_lexer": "ipython2",
   "version": "2.7.13"
  }
 },
 "nbformat": 4,
 "nbformat_minor": 2
}
