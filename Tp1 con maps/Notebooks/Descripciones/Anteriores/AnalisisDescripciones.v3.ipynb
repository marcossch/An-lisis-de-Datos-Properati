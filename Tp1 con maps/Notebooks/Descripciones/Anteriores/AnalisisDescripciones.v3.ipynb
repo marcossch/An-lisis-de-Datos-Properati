{
 "cells": [
  {
   "cell_type": "code",
   "execution_count": 12,
   "metadata": {},
   "outputs": [],
   "source": [
    "import pandas as pd\n",
    "import numpy as np\n",
    "import matplotlib.pyplot as plt\n",
    "import html5lib\n",
    "from bs4 import BeautifulSoup as bs\n",
    "from urllib import urlopen\n",
    "import sys\n",
    "import pickle\n",
    "\n",
    "reload(sys)\n",
    "sys.setdefaultencoding('utf-8')\n",
    "\n",
    "%matplotlib inline"
   ]
  },
  {
   "cell_type": "markdown",
   "metadata": {},
   "source": [
    "# Probamos cargar una sola URL"
   ]
  },
  {
   "cell_type": "code",
   "execution_count": 3,
   "metadata": {},
   "outputs": [
    {
     "ename": "TypeError",
     "evalue": "'NoneType' object is not iterable",
     "output_type": "error",
     "traceback": [
      "\u001b[0;31m---------------------------------------------------------------------------\u001b[0m",
      "\u001b[0;31mTypeError\u001b[0m                                 Traceback (most recent call last)",
      "\u001b[0;32m<ipython-input-3-1227099d40c9>\u001b[0m in \u001b[0;36m<module>\u001b[0;34m()\u001b[0m\n\u001b[1;32m     14\u001b[0m \u001b[0me\u001b[0m\u001b[0;34m=\u001b[0m \u001b[0;34m'Dormitorio'\u001b[0m\u001b[0;34m\u001b[0m\u001b[0m\n\u001b[1;32m     15\u001b[0m \u001b[0;34m\u001b[0m\u001b[0m\n\u001b[0;32m---> 16\u001b[0;31m \u001b[0;32mfor\u001b[0m \u001b[0mdiv\u001b[0m \u001b[0;32min\u001b[0m \u001b[0mmydivs\u001b[0m\u001b[0;34m:\u001b[0m\u001b[0;34m\u001b[0m\u001b[0m\n\u001b[0m\u001b[1;32m     17\u001b[0m     \u001b[0mli\u001b[0m \u001b[0;34m=\u001b[0m \u001b[0mdiv\u001b[0m\u001b[0;34m.\u001b[0m\u001b[0mfindAll\u001b[0m\u001b[0;34m(\u001b[0m\u001b[0;34m'li'\u001b[0m\u001b[0;34m)\u001b[0m\u001b[0;34m\u001b[0m\u001b[0m\n\u001b[1;32m     18\u001b[0m     \u001b[0ml\u001b[0m \u001b[0;34m=\u001b[0m \u001b[0mlen\u001b[0m\u001b[0;34m(\u001b[0m\u001b[0mli\u001b[0m\u001b[0;34m)\u001b[0m\u001b[0;34m\u001b[0m\u001b[0m\n",
      "\u001b[0;31mTypeError\u001b[0m: 'NoneType' object is not iterable"
     ]
    }
   ],
   "source": [
    "#Prueba de una sola\n",
    "\n",
    "url = \"http://www.properati.com.ar/336o_venta_departamento_macrocentro\"\n",
    "\n",
    "html = urlopen(url)\n",
    "soup = bs(html)\n",
    "\n",
    "mydivs = soup.find('Dormitorios')\n",
    "#Cosas contra las que comparar!!!\n",
    "a= 'Superficie'\n",
    "b= 'Baños'\n",
    "c= 'Ambientes'\n",
    "d= 'Piso'\n",
    "e= 'Dormitorio'\n",
    "\n",
    "for div in mydivs: \n",
    "    li = div.findAll('li')\n",
    "    l = len(li)\n",
    "    if(l > 0): x = li[0].getText()\n",
    "    if(l > 1): y = li[1].getText()\n",
    "    if(l > 2): z = li[2].getText()\n",
    "    \n",
    "    if(a in x or b in x or c in x or d in x or e in x):\n",
    "        print li\n",
    "    if(a in y or b in y or c in y or d in y or e in y):\n",
    "        print y\n",
    "    if(a in z or b in z or c in z or d in z or e in z):\n",
    "        print z\n",
    "#b = soup.find_all('div', class_=\"span8\")\n",
    "#b.find()\n",
    "#b = soup.findAll('div',{'class' : 'span8'})\n",
    "#b = [li.getText() for li in soup.findAll('ul', limit=4).findAll('li') ]\n"
   ]
  },
  {
   "cell_type": "code",
   "execution_count": 11,
   "metadata": {
    "collapsed": true
   },
   "outputs": [],
   "source": [
    "#Prueba de una sola\n",
    "\n",
    "url = \"http://www.properati.com.ar/336o_venta_departamento_macrocentro\"\n",
    "\n",
    "html = urlopen(url)\n",
    "soup = bs(html)\n",
    "\n",
    "mydivs = soup.find('div', id ='detail-pane').findAll('div', class_='span8')[1]\n",
    "print mydivs"
   ]
  },
  {
   "cell_type": "code",
   "execution_count": 35,
   "metadata": {
    "collapsed": true
   },
   "outputs": [],
   "source": [
    "def parsearDormitorios(x):\n",
    "    \n",
    "    for i in xrange( len(x) ):\n",
    "        actual = x[i].lower()\n",
    "        if( 'dorm' in actual ):\n",
    "            return actual[12:]\n",
    "        \n",
    "    return None\n",
    "\n",
    "def parsearAmbientes(x):\n",
    "    \n",
    "    for i in xrange( len(x) ):\n",
    "        actual = x[i].lower()\n",
    "        if( 'amb' in actual ):\n",
    "            return actual[10:]\n",
    "        \n",
    "    return None\n",
    "\n",
    "def parsearCochera(x):\n",
    "    \n",
    "    for i in xrange( len(x) ):\n",
    "        actual = x[i].lower()\n",
    "        if( 'coche' in actual or 'estac' in actual):\n",
    "            return True\n",
    "        \n",
    "    return None\n",
    "\n",
    "def parsearLugares(x):\n",
    "    \n",
    "    lugares = ['cocina','living','comedor','lavadero','jardín','patio',\n",
    "                       'terraza','plantas']\n",
    "    \n",
    "    l = []\n",
    "    \n",
    "    for i in xrange( len(x) ):\n",
    "        actual = x[i].lower()\n",
    "        for j in xrange(len(lugares)):\n",
    "            lugar = lugares[j]\n",
    "            if( lugar in actual):\n",
    "                l.append(lugar) \n",
    "    \n",
    "    if(len(l)!=0):return l\n",
    "    return None\n",
    "\n",
    "def parsearCondiciones(x):\n",
    "    condiciones = ['estrenar']\n",
    "    \n",
    "def parsearExtras(x):\n",
    "    extras = ['amoblado','calefacción','pisos','carpinteria','balcón','parrilla',\n",
    "              'pileta','piscina']\n",
    "\n",
    "def parsearExternos(x):\n",
    "    externos = ['agua corriente','gas natural','cloacas']"
   ]
  },
  {
   "cell_type": "code",
   "execution_count": 25,
   "metadata": {},
   "outputs": [
    {
     "name": "stdout",
     "output_type": "stream",
     "text": [
      " 2\n"
     ]
    }
   ],
   "source": [
    "a = parsearAmbientes(b)\n",
    "print a"
   ]
  },
  {
   "cell_type": "markdown",
   "metadata": {},
   "source": [
    "# Procesamos el conjunto de datos."
   ]
  },
  {
   "cell_type": "code",
   "execution_count": 14,
   "metadata": {},
   "outputs": [],
   "source": [
    "#Cargo toda la info\n",
    "propertyD = pd.read_csv('properati-AR-2017-08-01-properties-sell.csv')\n",
    "propertyD = propertyD[(propertyD['price_aprox_usd'].isnull() == False)]\n",
    "propertyData = propertyD[0:5000]"
   ]
  },
  {
   "cell_type": "code",
   "execution_count": 5,
   "metadata": {
    "collapsed": true
   },
   "outputs": [],
   "source": [
    "propertyData.info()\n",
    "#Todas tienen la url."
   ]
  },
  {
   "cell_type": "code",
   "execution_count": 17,
   "metadata": {
    "collapsed": true
   },
   "outputs": [],
   "source": [
    "def cargarURL(url):\n",
    "    html = urlopen(url)\n",
    "    soup = bs(html)\n",
    "\n",
    "    div = soup.find('div', id ='detail-pane')\n",
    "    if(div):\n",
    "        div.findAll('div', class_='span8')\n",
    "    return div"
   ]
  },
  {
   "cell_type": "code",
   "execution_count": null,
   "metadata": {},
   "outputs": [],
   "source": [
    "#Nos quedamos con la url\n",
    "direcciones = propertyData[['id','properati_url']]\n",
    "direcciones['properati_url'] = direcciones['properati_url'].apply(lambda x: cargarURL( x ))\n"
   ]
  },
  {
   "cell_type": "code",
   "execution_count": null,
   "metadata": {
    "collapsed": true
   },
   "outputs": [],
   "source": [
    "pickle.dump(direcciones, open(\"set.p\", \"wb\"))"
   ]
  },
  {
   "cell_type": "code",
   "execution_count": 8,
   "metadata": {},
   "outputs": [
    {
     "name": "stdout",
     "output_type": "stream",
     "text": [
      "0    [Dormitorios: 1, Baños: 1, Superficie Cubierta...\n",
      "1    [Código Postal: 1900\\n\\n\\n\\n, Dormitorios: 2, ...\n",
      "2    [Dormitorios: 1, Baños: 1, Superficie Cubierta...\n",
      "3    [Código Postal: 1408\\n\\n\\n\\n, Dormitorios: 2, ...\n",
      "Name: properati_url, dtype: object\n"
     ]
    }
   ],
   "source": [
    "print caracteristicas"
   ]
  },
  {
   "cell_type": "code",
   "execution_count": 13,
   "metadata": {},
   "outputs": [
    {
     "name": "stdout",
     "output_type": "stream",
     "text": [
      "0     1\n",
      "1     2\n",
      "2     1\n",
      "3     2\n",
      "Name: properati_url, dtype: object\n"
     ]
    }
   ],
   "source": [
    "dormitorios = caracteristicas.apply(lambda x: parsearDormitorios(x))\n",
    "print dormitorios"
   ]
  },
  {
   "cell_type": "code",
   "execution_count": 14,
   "metadata": {},
   "outputs": [
    {
     "name": "stdout",
     "output_type": "stream",
     "text": [
      "0    None\n",
      "1    None\n",
      "2    None\n",
      "3    None\n",
      "Name: properati_url, dtype: object\n"
     ]
    }
   ],
   "source": [
    "ambientes = caracteristicas.apply(lambda x: parsearAmbientes(x))\n",
    "print ambientes"
   ]
  },
  {
   "cell_type": "code",
   "execution_count": 26,
   "metadata": {},
   "outputs": [
    {
     "name": "stdout",
     "output_type": "stream",
     "text": [
      "0    None\n",
      "1    True\n",
      "2    None\n",
      "3    None\n",
      "Name: properati_url, dtype: object\n"
     ]
    }
   ],
   "source": [
    "cochera = caracteristicas.apply(lambda x: parsearCochera(x))\n",
    "print cochera"
   ]
  },
  {
   "cell_type": "code",
   "execution_count": 47,
   "metadata": {
    "collapsed": true
   },
   "outputs": [],
   "source": [
    "lugares = caracteristicas.apply(lambda x: parsearLugares(x))\n",
    "lugares[2]"
   ]
  }
 ],
 "metadata": {
  "kernelspec": {
   "display_name": "Python 2",
   "language": "python",
   "name": "python2"
  },
  "language_info": {
   "codemirror_mode": {
    "name": "ipython",
    "version": 2
   },
   "file_extension": ".py",
   "mimetype": "text/x-python",
   "name": "python",
   "nbconvert_exporter": "python",
   "pygments_lexer": "ipython2",
   "version": "2.7.13"
  }
 },
 "nbformat": 4,
 "nbformat_minor": 2
}
