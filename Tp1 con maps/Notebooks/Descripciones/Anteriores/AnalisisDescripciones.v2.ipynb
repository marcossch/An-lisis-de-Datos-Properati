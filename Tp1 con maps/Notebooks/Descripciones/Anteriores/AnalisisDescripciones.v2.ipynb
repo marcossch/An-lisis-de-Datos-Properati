{
 "cells": [
  {
   "cell_type": "code",
   "execution_count": 1,
   "metadata": {
    "collapsed": true
   },
   "outputs": [],
   "source": [
    "import pandas as pd\n",
    "import numpy as np\n",
    "import matplotlib.pyplot as plt\n",
    "%matplotlib inline"
   ]
  },
  {
   "cell_type": "code",
   "execution_count": 2,
   "metadata": {
    "collapsed": true
   },
   "outputs": [],
   "source": [
    "property_data = pd.read_csv('../../properati-AR-2017-08-01-properties-sell.csv')"
   ]
  },
  {
   "cell_type": "markdown",
   "metadata": {},
   "source": [
    "# ANALISIS DE LAS DESCRIPCIONES"
   ]
  },
  {
   "cell_type": "code",
   "execution_count": 3,
   "metadata": {},
   "outputs": [
    {
     "name": "stdout",
     "output_type": "stream",
     "text": [
      "<class 'pandas.core.frame.DataFrame'>\n",
      "RangeIndex: 187482 entries, 0 to 187481\n",
      "Data columns (total 27 columns):\n",
      "id                            187482 non-null object\n",
      "created_on                    187482 non-null object\n",
      "operation                     187482 non-null object\n",
      "property_type                 187482 non-null object\n",
      "place_name                    187447 non-null object\n",
      "place_with_parent_names       187482 non-null object\n",
      "country_name                  187482 non-null object\n",
      "state_name                    187482 non-null object\n",
      "geonames_id                   158318 non-null float64\n",
      "lat-lon                       118761 non-null object\n",
      "lat                           118761 non-null float64\n",
      "lon                           118761 non-null float64\n",
      "price                         154443 non-null float64\n",
      "currency                      154441 non-null object\n",
      "price_aprox_local_currency    154443 non-null float64\n",
      "price_aprox_usd               154443 non-null float64\n",
      "surface_total_in_m2           125027 non-null float64\n",
      "surface_covered_in_m2         152420 non-null float64\n",
      "price_usd_per_m2              105024 non-null float64\n",
      "price_per_m2                  131665 non-null float64\n",
      "floor                         14294 non-null float64\n",
      "rooms                         80320 non-null float64\n",
      "expenses                      17520 non-null float64\n",
      "properati_url                 187482 non-null object\n",
      "description                   187473 non-null object\n",
      "title                         187482 non-null object\n",
      "image_thumbnail               182814 non-null object\n",
      "dtypes: float64(13), object(14)\n",
      "memory usage: 38.6+ MB\n"
     ]
    }
   ],
   "source": [
    "#Primero vamos a ver cuantas propiedades tienen descripciones y cuantas titulo.\n",
    "property_data.info()"
   ]
  },
  {
   "cell_type": "raw",
   "metadata": {},
   "source": [
    "De 187482 datos totales, tenemos:\n",
    "    descripcion = 187473 --> faltan 9 descripciones.\n",
    "    titulo = 187482 --> falta 1 titulo."
   ]
  },
  {
   "cell_type": "markdown",
   "metadata": {},
   "source": [
    "## Analisis de las descripciones."
   ]
  },
  {
   "cell_type": "code",
   "execution_count": 10,
   "metadata": {},
   "outputs": [
    {
     "name": "stdout",
     "output_type": "stream",
     "text": [
      "187482\n",
      "154443\n"
     ]
    }
   ],
   "source": [
    "#Primero limpiamos las columnas que no es posible calcularle el precio.\n",
    "print len(property_data)\n",
    "\n",
    "propertyData = property_data[  (property_data['price_aprox_usd'].isnull() == False)  ]\n",
    "           #or (property_data['price_per_m2'].isnull == False \n",
    "            #and property_data['surface_total_in_m2'] == False )]\n",
    "#faltaria recortar con eso pero ya es una buena aprox.\n",
    "\n",
    "print len(propertyData)"
   ]
  },
  {
   "cell_type": "markdown",
   "metadata": {},
   "source": [
    "## Busco dormitorios "
   ]
  },
  {
   "cell_type": "code",
   "execution_count": 15,
   "metadata": {
    "collapsed": true
   },
   "outputs": [],
   "source": [
    "def buscarCantidad(x, i):\n",
    "    \n",
    "    #Podemos asumir que si tiene un : viene la cantidad despues\n",
    "    if(':' in x[i]):\n",
    "        return x[i+1]\n",
    "    \n",
    "    #Si el caracter anterior se puede trasnformar a int, tiene que ser ese\n",
    "    \n",
    "\n",
    "def parseoDormitorios(x):\n",
    "    \n",
    "    caract = \"\"\n",
    "    caractViviendas = ['dorm','hab','cuarto'] \n",
    "    \n",
    "    if( x == None or x == \"\"):\n",
    "        return None\n",
    "    \n",
    "    if type( x ) is str:\n",
    "        x = x.lower()\n",
    "    if type( x ) is float:\n",
    "        x = str(x).lower()\n",
    "    #Queda una lista separada por comas.    \n",
    "    x = x.split()\n",
    "    \n",
    "    \n",
    "    for j in xrange(len(caractViviendas)):\n",
    "        \n",
    "        aux = \"\"\n",
    "        palabraAct = caractViviendas[j]\n",
    "        \n",
    "        if( palabraAct in x ):\n",
    "            indice = x.index( palabraAct )\n",
    "            #caract = buscarCantidadDorm(x,indice)\n",
    "            caract = x[indice-1]\n",
    "            caract += \" Dormitorios \"\n",
    "            return caract\n",
    "        else:\n",
    "            for ind in xrange( len(x) ):\n",
    "                if( palabraAct in x[ind] ):\n",
    "                    #caract = buscarCantidadDorm(x,ind)\n",
    "                    caract = x[ind-1]\n",
    "                    caract += \" Dormitorios \"\n",
    "                    return caract\n",
    "\n",
    "    return None"
   ]
  },
  {
   "cell_type": "code",
   "execution_count": 20,
   "metadata": {
    "collapsed": true
   },
   "outputs": [],
   "source": [
    "descripcion  = propertyData[['id','description']]\n",
    "\n",
    "#Primera pasada super basica, vamos a refinar para conseguir mas datos\n",
    "dormitorios = descripcion['description'].apply(lambda x: parseoDormitorios(x))"
   ]
  }
 ],
 "metadata": {
  "kernelspec": {
   "display_name": "Python 2",
   "language": "python",
   "name": "python2"
  },
  "language_info": {
   "codemirror_mode": {
    "name": "ipython",
    "version": 2
   },
   "file_extension": ".py",
   "mimetype": "text/x-python",
   "name": "python",
   "nbconvert_exporter": "python",
   "pygments_lexer": "ipython2",
   "version": "2.7.13"
  }
 },
 "nbformat": 4,
 "nbformat_minor": 2
}
