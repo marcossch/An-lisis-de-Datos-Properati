{
 "cells": [
  {
   "cell_type": "code",
   "execution_count": 1,
   "metadata": {
    "collapsed": true
   },
   "outputs": [],
   "source": [
    "import pandas as pd\n",
    "import numpy as np\n",
    "import matplotlib.pyplot as plt\n",
    "%matplotlib inline"
   ]
  },
  {
   "cell_type": "code",
   "execution_count": 2,
   "metadata": {
    "collapsed": true
   },
   "outputs": [],
   "source": [
    "property_data = pd.read_csv('../../properati-AR-2017-08-01-properties-sell.csv')"
   ]
  },
  {
   "cell_type": "markdown",
   "metadata": {},
   "source": [
    "# ANALISIS DE LAS DESCRIPCIONES"
   ]
  },
  {
   "cell_type": "code",
   "execution_count": 3,
   "metadata": {},
   "outputs": [
    {
     "name": "stdout",
     "output_type": "stream",
     "text": [
      "<class 'pandas.core.frame.DataFrame'>\n",
      "RangeIndex: 187482 entries, 0 to 187481\n",
      "Data columns (total 27 columns):\n",
      "id                            187482 non-null object\n",
      "created_on                    187482 non-null object\n",
      "operation                     187482 non-null object\n",
      "property_type                 187482 non-null object\n",
      "place_name                    187447 non-null object\n",
      "place_with_parent_names       187482 non-null object\n",
      "country_name                  187482 non-null object\n",
      "state_name                    187482 non-null object\n",
      "geonames_id                   158318 non-null float64\n",
      "lat-lon                       118761 non-null object\n",
      "lat                           118761 non-null float64\n",
      "lon                           118761 non-null float64\n",
      "price                         154443 non-null float64\n",
      "currency                      154441 non-null object\n",
      "price_aprox_local_currency    154443 non-null float64\n",
      "price_aprox_usd               154443 non-null float64\n",
      "surface_total_in_m2           125027 non-null float64\n",
      "surface_covered_in_m2         152420 non-null float64\n",
      "price_usd_per_m2              105024 non-null float64\n",
      "price_per_m2                  131665 non-null float64\n",
      "floor                         14294 non-null float64\n",
      "rooms                         80320 non-null float64\n",
      "expenses                      17520 non-null float64\n",
      "properati_url                 187482 non-null object\n",
      "description                   187473 non-null object\n",
      "title                         187482 non-null object\n",
      "image_thumbnail               182814 non-null object\n",
      "dtypes: float64(13), object(14)\n",
      "memory usage: 38.6+ MB\n"
     ]
    }
   ],
   "source": [
    "#Primero vamos a ver cuantas propiedades tienen descripciones y cuantas titulo.\n",
    "property_data.info()"
   ]
  },
  {
   "cell_type": "raw",
   "metadata": {},
   "source": [
    "De 187482 datos totales, tenemos:\n",
    "    descripcion = 187473 --> faltan 9 descripciones.\n",
    "    titulo = 187482 --> falta 1 titulo."
   ]
  },
  {
   "cell_type": "markdown",
   "metadata": {},
   "source": [
    "## Analisis de los titulos."
   ]
  },
  {
   "cell_type": "code",
   "execution_count": 4,
   "metadata": {
    "collapsed": true
   },
   "outputs": [],
   "source": [
    "def parseoTipo(x):\n",
    "    \n",
    "    tipo = \"\"\n",
    "    tiposViviendas = ['casa', 'ph','p.h.', 'departamento','depto','dpto','dto',\n",
    "                      'chalet','duplex','duples','triplex','edificio','semipiso','piso',\n",
    "                      'p.baja','planta baja', 'p.b.','casona', 'loft', 'cabaña', 'mansion',\n",
    "                      'local','quinta','bungalow','oficina',\n",
    "                      'terreno','lote']\n",
    "    x=x.lower()\n",
    "    \n",
    "    for i in tiposViviendas:\n",
    "        aux = \"\"\n",
    "        \n",
    "        if( x.find(i) >= 0 ):\n",
    "            aux += i\n",
    "        if( aux != \"\" and aux not in tipo):\n",
    "            tipo+=aux\n",
    "            tipo+=\" \"\n",
    "\n",
    "    if(tipo !=\"\"): return tipo\n",
    "    return x\n",
    "\n",
    "def identificarCaracteristica(x,j,indice,aux,caract):\n",
    "            \n",
    "    if( j not in caract ):\n",
    "\n",
    "        \"Si son ambientes, vemos cuantos\"\n",
    "        if(j == 'ambiente' or j== 'amb'):\n",
    "            aux = x[indice - 1]\n",
    "            aux += \" \"\n",
    "\n",
    "        \"Si son dormitorios, vemos cuantos\"\n",
    "        if(j==\"dormitorios\" or j == \"dormitorio\" or j == \"dorm\" or j == \"hab\" or j == \"habitacion\"):\n",
    "            aux = x[indice - 1]\n",
    "            aux += \" \"\n",
    "\n",
    "        aux += j\n",
    "        caract.append( aux )\n",
    "\n",
    "def actualizarPosicion(j):\n",
    "    if(j<=3):#condiciones\n",
    "        j=4\n",
    "    if(j>3 and j<=6):#ambientes\n",
    "        j=7\n",
    "    if(j>6 and j<=13):#cuartos\n",
    "        j=14\n",
    "    if(j>13 and j<=17):#cochera\n",
    "        j=18\n",
    "\n",
    "def chequearFin(caract,j):\n",
    "    if( j == 3 or j== 6 or j==13 or j>=17 ):\n",
    "        caract.append(None)\n",
    "        \n",
    "def parseoCaracteristica(x):\n",
    "    \n",
    "    caract = []\n",
    "    caractViviendas = ['estrenar','nueva', 'condiciones','refaccionar',\n",
    "                       'monoambiente','ambiente','amb',\n",
    "                       'dormitorio','dorm','dormitorios','hab','habitacion','cuarto','cuartos',\n",
    "                       'estac', 'estacionamiento','cochera','garage',\n",
    "                       \n",
    "                       'living','comedor','cocina','baño','lavadero','piso',           \n",
    "                       'balcon','pileta','jardin','patio','parrilla']\n",
    "    \n",
    "    if( x == None or x == \"\"):\n",
    "        return \n",
    "    \n",
    "    if type( x ) is str:\n",
    "        x = x.lower()\n",
    "    if type( x ) is float:\n",
    "        x = str(x).lower()\n",
    "    \n",
    "    x = x.split()\n",
    "    \n",
    "    for j in xrange(len(caractViviendas)):\n",
    "        aux = \"\"\n",
    "        palabraAct = caractViviendas[j]\n",
    "        \n",
    "        if( palabraAct in x ):\n",
    "            indice = x.index(palabraAct)\n",
    "            identificarCaracteristica(x,palabraAct,indice,aux,caract)\n",
    "            actualizarPosicion(j)\n",
    "        \n",
    "        else:\n",
    "            for ind in xrange(len(x)):\n",
    "                if(palabraAct in x[ind]):\n",
    "                    identificarCaracteristica(x,palabraAct,ind,aux,caract)\n",
    "                    actualizarPosicion(j)\n",
    "                else:\n",
    "                    chequearFin(caract,j)\n",
    "                    \n",
    "                    \n",
    "    if( len(caract) != 0 ): return caract\n",
    "    #print x\n",
    "    return None"
   ]
  },
  {
   "cell_type": "code",
   "execution_count": 6,
   "metadata": {},
   "outputs": [
    {
     "name": "stdout",
     "output_type": "stream",
     "text": [
      "187482\n",
      "154443\n"
     ]
    },
    {
     "name": "stderr",
     "output_type": "stream",
     "text": [
      "/home/facundo/.local/lib/python2.7/site-packages/ipykernel_launcher.py:14: SettingWithCopyWarning: \n",
      "A value is trying to be set on a copy of a slice from a DataFrame.\n",
      "Try using .loc[row_indexer,col_indexer] = value instead\n",
      "\n",
      "See the caveats in the documentation: http://pandas.pydata.org/pandas-docs/stable/indexing.html#indexing-view-versus-copy\n",
      "  \n"
     ]
    },
    {
     "data": {
      "text/plain": [
       "'\\nHAY MUY POCOS QUE TIENEN CARACTERISTICAS. HAY QUE VER SI CON LA DESCRIPCION PODEMOS EXPANDIR\\nUN POCO MAS LA INFO. ES MUY POCA.\\n'"
      ]
     },
     "execution_count": 6,
     "metadata": {},
     "output_type": "execute_result"
    }
   ],
   "source": [
    "#Primero limpiamos las columnas que no es posible calcularle el precio.\n",
    "print len(property_data)\n",
    "\n",
    "propertyData = property_data[  (property_data['price_aprox_usd'].isnull() == False)  ]\n",
    "           #or (property_data['price_per_m2'].isnull == False \n",
    "            #and property_data['surface_total_in_m2'] == False )]\n",
    "#faltaria recortar con eso pero ya es una buena aprox.\n",
    "\n",
    "print len(propertyData)\n",
    "\n",
    "\n",
    "#Parseo el titulo y me quedo con las caracteristicas.\n",
    "caracteristicas = propertyData[['id','title']]\n",
    "caracteristicas['title'] = caracteristicas['title'].apply(lambda x: parseoCaracteristica(x))\n",
    "#print caracteristicas.head(5)\n",
    "\n",
    "\n",
    "#Parseo el titulo y me quedo con el tipo de vivienda.\n",
    "#tiposVivienda = titulos[['title', 'id', 'price_per_m2']]\n",
    "#tiposVivienda['title'] = tiposVivienda['title'].apply(lambda x: parseoTipo(x))\n",
    "\n",
    "#Mergeo los dos separados\n",
    "#completo = pd.merge(caracteristicas, tiposVivienda, on='id', how='inner')\n",
    "#completo.rename(columns={'title_x':'caracteristicas'}, inplace=True)\n",
    "#completo.rename(columns={'title_y':'tipo'}, inplace=True)\n",
    "\n",
    "#completo.head(10)\n",
    "\n",
    "\"\"\"\n",
    "HAY MUY POCOS QUE TIENEN CARACTERISTICAS. HAY QUE VER SI CON LA DESCRIPCION PODEMOS EXPANDIR\n",
    "UN POCO MAS LA INFO. ES MUY POCA.\n",
    "\"\"\"\n"
   ]
  },
  {
   "cell_type": "markdown",
   "metadata": {
    "collapsed": true
   },
   "source": [
    "## Ahora parseo la descripcion"
   ]
  },
  {
   "cell_type": "code",
   "execution_count": 7,
   "metadata": {},
   "outputs": [
    {
     "name": "stdout",
     "output_type": "stream",
     "text": [
      "154443\n",
      "154443\n"
     ]
    }
   ],
   "source": [
    "descripcion  = propertyData[['id','description']]\n",
    "\n",
    "print len(descripcion)#154443\n",
    "\n",
    "#Primera pasada super basica, vamos a refinar para conseguir mas datos\n",
    "lDescripcionesN = descripcion['description'].apply(lambda x: parseoCaracteristica(x))\n",
    "lDescripcionesN = lDescripcionesN[lDescripcionesN.isnull() == False]\n",
    "#Para esta linea poner return None, solo lo hice para ver cuantos no tienen descripcion\n",
    "print len(lDescripcionesN)#123212"
   ]
  },
  {
   "cell_type": "code",
   "execution_count": 8,
   "metadata": {},
   "outputs": [
    {
     "name": "stdout",
     "output_type": "stream",
     "text": [
      "0     [None, None, None, None, None, None, None, Non...\n",
      "1     [None, None, None, None, None, None, None, Non...\n",
      "4     [None, None, None, None, None, None, None, Non...\n",
      "5     [None, None, None, None, None, None, None, Non...\n",
      "6     [None, None, None, None, None, None, None, Non...\n",
      "8     [None, None, None, None, None, None, None, Non...\n",
      "9     [None, None, None, None, None, None, None, Non...\n",
      "10    [None, None, None, None, None, None, None, Non...\n",
      "11    [None, None, None, None, None, None, None, Non...\n",
      "12    [None, None, None, None, None, None, None, Non...\n",
      "Name: description, dtype: object\n"
     ]
    }
   ],
   "source": [
    "#Vamos a intentar refinar un poco\n",
    "lDescrip = descripcion['description'].apply(lambda x: parseoCaracteristica(x))\n",
    "print lDescrip.head(10)\n",
    "#print len(lDescrip)#123212"
   ]
  },
  {
   "cell_type": "markdown",
   "metadata": {},
   "source": [
    "# Vamos a separar las caracteristicas "
   ]
  },
  {
   "cell_type": "code",
   "execution_count": 12,
   "metadata": {},
   "outputs": [
    {
     "name": "stdout",
     "output_type": "stream",
     "text": [
      "132743\n",
      "153533\n",
      "154345\n",
      "154391\n"
     ]
    }
   ],
   "source": [
    "condicion = lDescrip.apply(lambda row: row[0])\n",
    "print condicion.isnull().sum()\n",
    "\n",
    "ambientes = lDescrip.apply(lambda row: row[1])\n",
    "print ambientes.isnull().sum()\n",
    "\n",
    "habitaciones = lDescrip.apply(lambda row: row[2])\n",
    "print habitaciones.isnull().sum()\n",
    "\n",
    "garage = lDescrip.apply(lambda row: row[3])\n",
    "print garage.isnull().sum()"
   ]
  }
 ],
 "metadata": {
  "kernelspec": {
   "display_name": "Python 2",
   "language": "python",
   "name": "python2"
  },
  "language_info": {
   "codemirror_mode": {
    "name": "ipython",
    "version": 2
   },
   "file_extension": ".py",
   "mimetype": "text/x-python",
   "name": "python",
   "nbconvert_exporter": "python",
   "pygments_lexer": "ipython2",
   "version": "2.7.13"
  }
 },
 "nbformat": 4,
 "nbformat_minor": 2
}
